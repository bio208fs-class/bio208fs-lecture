{
 "cells": [
  {
   "cell_type": "markdown",
   "metadata": {},
   "source": [
    "# Week 05 Assignment\n",
    "\n",
    "**Due date**: Tue, September 22 by 3:30pm (submit on Sakai)"
   ]
  },
  {
   "cell_type": "markdown",
   "metadata": {},
   "source": [
    "## Comparing the genome of COVID-19 to the closely related Bat Coronavirus RaTG13\n",
    "\n",
    "Goal:  Take some initial steps towards comparative analysis of the genomes of two coranaviruses\n",
    "\n",
    "Background: The first paper describing the genome of the COVID-19 virus (Zhou et al. 2020) showed that the nucleotide sequence of the COVID-19 is fairly similar (96% sequence identity) to a corona virus isolated from a bat, designated  BatCoV RaTG13.  The goal of this assignment is to use Biopython and Pandas to begin the process of undertaking a comparative analysis of the genomes of these two corona viruses.\n",
    "\n",
    "Reference: Zhou, P., Yang, X., Wang, X. et al. A pneumonia outbreak associated with a new coronavirus of probable bat origin. Nature 579, 270–273 (2020). https://doi.org/10.1038/s41586-020-2012-7\n"
   ]
  },
  {
   "cell_type": "markdown",
   "metadata": {},
   "source": [
    "## Data\n",
    "\n",
    "The assignment uses the following files:\n",
    "\n",
    "* [NC_045512.gb](https://github.com/bio208fs-class/bio208fs-lecture/raw/master/data/NC_045512.gb) -- the Genbank entry for the [COVID-19 reference genome](https://www.ncbi.nlm.nih.gov/nuccore/NC_045512)\n",
    "\n",
    "* [MN996532.gb](https://github.com/bio208fs-class/bio208fs-lecture/raw/master/data/MN996532.gb) -- the Genbank entry for the genome of [Bat coronavirus RaTG13](https://www.ncbi.nlm.nih.gov/nuccore/MN996532)"
   ]
  },
  {
   "cell_type": "markdown",
   "metadata": {},
   "source": [
    "### Problem 1 (6 pts)\n",
    "\n",
    "Use Biopython to parse the genbank files for each of the corona viruses.\n",
    "\n",
    "1. How many annotated features are there for each genome?\n",
    "1. How many of the annotated features are designated as coding sequences (CDS)?\n",
    "1. What fraction of each genome is made up of features designated coding sequences?"
   ]
  },
  {
   "cell_type": "code",
   "execution_count": null,
   "metadata": {},
   "outputs": [],
   "source": [
    "## Your code here (feel free to use multiple code cells as needed for this and the subsequent problems)"
   ]
  },
  {
   "cell_type": "markdown",
   "metadata": {},
   "source": [
    "### Problem 2 (8 pts)\n",
    "\n",
    "Using the data from the respective genbank files create two Pandas data frames with key information about the CDS features of the two coronavirus genomes.  Your data frames should have the following columns:\n",
    "\n",
    "\n",
    "1. Gene -- The first entry in the \"gene\" field from each `SeqFeature.qualifiers` attribute. Normalize the names to be in all capital letters.\n",
    "2. Product --   The first entry in the \"product\" filed from each SeqFeature.qualifiers attribute\n",
    "3. Start -- The start coordinate (0-indexed)\n",
    "4. End -- The end coordinate (0-indexed)\n",
    "5. Length -- The length of each CDS\n",
    "\n",
    "* Once you've created these data frames, show how to save them to your file system as CSV files for later use.\n"
   ]
  },
  {
   "cell_type": "code",
   "execution_count": null,
   "metadata": {},
   "outputs": [],
   "source": [
    "## Your code here"
   ]
  },
  {
   "cell_type": "markdown",
   "metadata": {},
   "source": [
    "### Problem 3 (8 pts)\n",
    "\n",
    "Using the data frames you generated in Problem 2, create a figure that graphically represent the genomes of these two coronaviruses, with the genomes depicted as gray bars and thicker red bars representing the locations of each coding sequence on these genomes."
   ]
  },
  {
   "cell_type": "code",
   "execution_count": 3,
   "metadata": {},
   "outputs": [],
   "source": [
    "## Your code here"
   ]
  },
  {
   "cell_type": "markdown",
   "metadata": {},
   "source": [
    "### Problem 4 (4 pts)\n",
    "\n",
    "What are the shared gene names between the two genomes? \n"
   ]
  },
  {
   "cell_type": "code",
   "execution_count": 4,
   "metadata": {},
   "outputs": [],
   "source": [
    "## Your code here"
   ]
  },
  {
   "cell_type": "markdown",
   "metadata": {},
   "source": [
    "### Problem 5 (12 pts)\n",
    "\n",
    "For each of the genes that are shared between the two viruses (i.e. the CDS have the same names), create a FASTA file with the respective protein sequences for the two corona virus genomes.  \n",
    "\n",
    "* So that the source of each sequence can be easily identified in the fasta files, when you create `SeqRecords` to hold the respective sequence information, give the records `id` values of the form `GeneName|GenbankID` ; for example, the \"S\" genes from Covid-19 would have the ID `S|NC_045512.2` while the same gene from the bat virus would have the ID `S|MN996532.1`\n",
    "\n",
    "* You should end up the $n$ FASTA files where $n$ is the number of shared gene names from Problem 4.  Each of these FASTA files will contain to sequence records. Save each FASTA file to your file system, using the naming scheme: `coronaviruses_GeneName.fsa`. For example, the file for the \"S\" gene FASTA records would be `coronaviruses_S.fsa`."
   ]
  },
  {
   "cell_type": "code",
   "execution_count": 5,
   "metadata": {},
   "outputs": [],
   "source": [
    "## Your code here"
   ]
  }
 ],
 "metadata": {
  "kernelspec": {
   "display_name": "Python 3",
   "language": "python",
   "name": "python3"
  },
  "language_info": {
   "codemirror_mode": {
    "name": "ipython",
    "version": 3
   },
   "file_extension": ".py",
   "mimetype": "text/x-python",
   "name": "python",
   "nbconvert_exporter": "python",
   "pygments_lexer": "ipython3",
   "version": "3.8.5"
  }
 },
 "nbformat": 4,
 "nbformat_minor": 4
}

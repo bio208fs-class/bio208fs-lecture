{
 "cells": [
  {
   "cell_type": "code",
   "execution_count": 1,
   "metadata": {},
   "outputs": [],
   "source": [
    "import pandas as pd, numpy as np, seaborn as sns\n",
    "\n",
    "import statsmodels.formula.api as smf\n",
    "\n",
    "from matplotlib import pyplot as plt\n",
    "%matplotlib inline"
   ]
  },
  {
   "cell_type": "markdown",
   "metadata": {},
   "source": [
    "# Introduction to linear regression & heritability\n",
    "In lecture, we were introduced to linear regression to test for the association between a genotype and phenotype. On slide 12 of lecture (see lecture) recreate the example phenotype by genotype plot examining the cell size phenotype as a function of the SNP on chromosome 1."
   ]
  },
  {
   "cell_type": "markdown",
   "metadata": {},
   "source": [
    "## Create a dataframe with the example data on slide 12. \n",
    "In the example data on slide 12 (in the middle of the page), there are a total of 20 data points (_N_ = 20) representing the cell size categroy scores. The score range from 1 to 4 for small and large cells (respectively).\n",
    "Be sure to name the dataframe, \"celldf\" with the columns of the dataframe listed as, \"Genotype\" and \"Phenotype\". HINT: type ?pd.DataFrame to see the help menu on making a pandas dataframe. The genotype scores should be descrete for example zero or one representing the parental genotype. "
   ]
  },
  {
   "cell_type": "code",
   "execution_count": null,
   "metadata": {},
   "outputs": [],
   "source": [
    "N = 20 ## Number of samples\n",
    "column_names = ['Genotype','Phenotype'] ## New column names\n",
    "\n",
    "celldf = "
   ]
  },
  {
   "cell_type": "markdown",
   "metadata": {},
   "source": [
    "## Plot the phenotypes by genotype.\n",
    "\n",
    "W\n"
   ]
  },
  {
   "cell_type": "code",
   "execution_count": null,
   "metadata": {},
   "outputs": [],
   "source": [
    "N = 20\n",
    "sg = int(N/2)\n",
    "gt = np.concatenate([np.zeros(sg),np.ones(sg)])\n",
    "cellsize = np.array([1,1,1,1,2,2,2,2,2,2,3,3,3,3,3,4,4,4,4,4])\n",
    "\n",
    "celldf = pd.DataFrame([gt,cellsize],index=['Genotype','Phenotype']).T\n",
    "celldf.head()\n",
    "\n",
    "res = smf.ols('Phenotype~Genotype',data=celldf).fit()\n",
    "celldf['Residual'] = res.resid\n",
    "res.summary()\n",
    "\n",
    "#sns.regplot(x='Genotype',y='Phenotype',data=celldf,ci=False,line_kws={'color':'k'});\n",
    "x = np.linspace(-0.2,1.2,30)\n",
    "yh = res.params[1]*x + res.params[0]\n",
    "plt.plot(x,yh,color='k',linestyle='--');\n",
    "sns.swarmplot(x='Genotype',y='Phenotype',data=celldf,size=10);\n",
    "plt.ylabel('Cell size',fontsize=14)\n",
    "plt.yticks(np.arange(4)+1,np.arange(4)+1,fontsize=14);\n",
    "ss_mean=np.sum((celldf.Phenotype - celldf.Phenotype.mean())**2)\n",
    "ss_res = np.sum(celldf.Residual**2)\n",
    "(ss_mean-ss_res)/ss_mean"
   ]
  }
 ],
 "metadata": {
  "kernelspec": {
   "display_name": "Python 3",
   "language": "python",
   "name": "python3"
  },
  "language_info": {
   "codemirror_mode": {
    "name": "ipython",
    "version": 3
   },
   "file_extension": ".py",
   "mimetype": "text/x-python",
   "name": "python",
   "nbconvert_exporter": "python",
   "pygments_lexer": "ipython3",
   "version": "3.8.5"
  }
 },
 "nbformat": 4,
 "nbformat_minor": 4
}

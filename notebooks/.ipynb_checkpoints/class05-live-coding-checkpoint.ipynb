{
 "cells": [
  {
   "cell_type": "markdown",
   "metadata": {},
   "source": [
    "## Reading and writing from files"
   ]
  },
  {
   "cell_type": "code",
   "execution_count": 1,
   "metadata": {},
   "outputs": [],
   "source": [
    "### open function and file objects\n",
    "?open"
   ]
  },
  {
   "cell_type": "code",
   "execution_count": null,
   "metadata": {},
   "outputs": [],
   "source": [
    "### reading everything from a file as a single string"
   ]
  },
  {
   "cell_type": "code",
   "execution_count": null,
   "metadata": {},
   "outputs": [],
   "source": [
    "### reading a file line by line"
   ]
  },
  {
   "cell_type": "markdown",
   "metadata": {},
   "source": [
    "### Write a function to parse a FASTA file"
   ]
  },
  {
   "cell_type": "markdown",
   "metadata": {},
   "source": [
    "### Introducing the FASTA file format for sequence data\n",
    "\n",
    "The most ubiquitous file format used to represent nucleotide and protein sequence data is the FASTA format.  Wikipedia has a good [overview of the FASTA format](https://en.wikipedia.org/wiki/FASTA_format).  We'll illustrate this format with an example -- the COVID-19 reference genome, which can be found on [Genbank](https://www.ncbi.nlm.nih.gov/genbank/) via [this link](https://www.ncbi.nlm.nih.gov/nuccore/NC_045512).\n",
    "\n",
    "Summary of FASTA format:\n",
    " \n",
    " * Each file can hold one or more sequence records\n",
    " \n",
    " * The beginning of each record is delimited by a line called a header, which has a `>` character at the beginning, followed by the name associated with that record (and an optional description). For example `>seq1 Involved in...` would indicate the beginning of a record with the name `seq1` and the description \"Involved in...\".\n",
    " \n",
    " * On or more sequence lines follow header lines.  These lines are usually wrapped to have length <=80 characters but this is not required.\n",
    "\n"
   ]
  },
  {
   "cell_type": "code",
   "execution_count": null,
   "metadata": {},
   "outputs": [],
   "source": [
    "def parse_FASTA(fname):\n",
    "    record_dict = {}\n",
    "    f = open(fname, 'r')\n",
    "    \n",
    "    recname = \"\"           # will hold names of records\n",
    "    seq = \"\"               # will hold seq strings\n",
    "    active_record = False  # indicates whether we are currently working on building a record\n",
    "    \n",
    "    for line in f.readlines():\n",
    "        \n",
    "        line = line.strip()  # strip any whitespace at beginning/end of line\n",
    "        \n",
    "        if line == \"\":       # empty line\n",
    "            continue         # go to next iteration of for loop\n",
    "            \n",
    " \n",
    "        if line[0] == \">\":                 # are we dealing with a new record?\n",
    "            if active_record:              # did we already have an active record?\n",
    "                record_dict[recname] = seq # if so, add to old active record to the dict so we can\n",
    "                                           # begin a new one \n",
    "            \n",
    "            recname = line[1:].split()[0]  # name of new record\n",
    "            seq = \"\"                       # reset variable holding the string\n",
    "            active_record = True           # set flag to indicate we now have an active record\n",
    "            continue                       # go to the next iteration of for loop, as there's nothing else to do\n",
    "        \n",
    "        seq += line\n",
    "        \n",
    "    if active_record:               # if we've exhausted all the lines, we might still have an active record\n",
    "        record_dict[recname] = seq  # if so, add it to the dict\n",
    "\n",
    "    return record_dict\n",
    "        \n",
    "            "
   ]
  },
  {
   "cell_type": "markdown",
   "metadata": {},
   "source": [
    "### Using our parse_FASTA function"
   ]
  },
  {
   "cell_type": "markdown",
   "metadata": {},
   "source": [
    "Download the following files to your computer:\n",
    "\n",
    "* [`covid-ref.fsa`](https://github.com/bio208fs-class/bio208fs-lecture/raw/master/data/covid-ref.fsa)\n",
    "* [`covid-S-and-E.fsa`](https://github.com/bio208fs-class/bio208fs-lecture/raw/master/data/covid-S-and-E.fsa)"
   ]
  },
  {
   "cell_type": "markdown",
   "metadata": {},
   "source": [
    "# Assignment 01\n",
    "\n",
    "Using codeblocks, solve the following problems:\n",
    "\n",
    "a) Show how to use the `parse_FASTA` function to read the file `covid-S-and-E.fsa` file. (1 pt)"
   ]
  },
  {
   "cell_type": "code",
   "execution_count": null,
   "metadata": {},
   "outputs": [],
   "source": [
    "# code for 1a"
   ]
  },
  {
   "cell_type": "markdown",
   "metadata": {},
   "source": [
    "b) Show how to use list comprehension to get the gene names of each of the records in `covid-S-and-E.fsa` (1 pt)"
   ]
  },
  {
   "cell_type": "code",
   "execution_count": 6,
   "metadata": {},
   "outputs": [],
   "source": [
    "# code for 1b"
   ]
  },
  {
   "cell_type": "markdown",
   "metadata": {},
   "source": [
    "c) Show how to get the sequence corresponding to the gene with the name `YP_009724390.1` (1 pt)"
   ]
  },
  {
   "cell_type": "code",
   "execution_count": 7,
   "metadata": {},
   "outputs": [],
   "source": [
    "# code for 1c"
   ]
  },
  {
   "cell_type": "markdown",
   "metadata": {},
   "source": [
    "d) Show how to use a single for-loop to create two lists containing the name of each protein in `covid-S-and-E.fsa` and a corresponding list giving the length of each of those proteins (2 pts)"
   ]
  },
  {
   "cell_type": "code",
   "execution_count": 8,
   "metadata": {},
   "outputs": [],
   "source": [
    "# code for 1d"
   ]
  },
  {
   "cell_type": "markdown",
   "metadata": {},
   "source": [
    "# Assignment 02\n",
    "\n",
    "Using codeblocks, solve the following problems:\n",
    " \n",
    "a) Refer to the [GenBank record page for the COVID-19 reference genome](https://www.ncbi.nlm.nih.gov/nuccore/NC_045512).  What are the genome coordinates for the coding sequence for the \"S\" (spike) gene?  What are the genome coordinates for the coding sequence of the \"E\" (envelope) gene? Assign the start and stop coordinates for each of these genes to variables with appropriate names (1 pt)"
   ]
  },
  {
   "cell_type": "code",
   "execution_count": null,
   "metadata": {},
   "outputs": [],
   "source": [
    "# code for 2a"
   ]
  },
  {
   "cell_type": "markdown",
   "metadata": {},
   "source": [
    "b) Using the DNA nucleotide sequence you loaded from the `covid-ref.fsa` file, show how to retrieve the nucleotide sequences corresponding to the \"S\" and \"E\" genes. Remember that Python strings are 0-indexed, whereas GenBank using 1-index coordinates (3 pts)"
   ]
  },
  {
   "cell_type": "code",
   "execution_count": null,
   "metadata": {},
   "outputs": [],
   "source": [
    "# code for 2b"
   ]
  },
  {
   "cell_type": "markdown",
   "metadata": {},
   "source": [
    "# Assignment 03\n",
    "\n",
    "a) Write a translation function, `translate`, that takes as an input a string representing a DNA coding sequence and returns a string representing the corresponding protein sequence (5 pts)"
   ]
  },
  {
   "cell_type": "code",
   "execution_count": 12,
   "metadata": {},
   "outputs": [],
   "source": [
    "# code for 3a\n",
    "\n",
    "def translate(seq):\n",
    "    pass # replace with your code"
   ]
  },
  {
   "cell_type": "markdown",
   "metadata": {},
   "source": [
    "b) Test your `translate` function by applying it to the coding sequence of the \"S\" and \"E\" genes, and comparing your results to the protein sequences from the `covid-S-and-E.fsa` file provided above."
   ]
  },
  {
   "cell_type": "code",
   "execution_count": 3,
   "metadata": {},
   "outputs": [],
   "source": [
    "# code for 3b"
   ]
  },
  {
   "cell_type": "markdown",
   "metadata": {},
   "source": [
    "# Assigment 04\n",
    "\n",
    "The protein coding regions of many genes are encoded not as single continuous blocks of the genome, but instead in regions called \"exons\" that are separated by non-coding regions called \"introns\".  Following transcription, intronic sequences are \"spliced out\" of meseenger RNA (mRNA) by a protein complex called the \"Sliceosome\".  The end product of this splicing process is the sequence that will actually be translated by ribosomes."
   ]
  },
  {
   "cell_type": "markdown",
   "metadata": {},
   "source": [
    "a) Write a splicing function that takes as input two arguments:\n",
    "\n",
    "1.  a string representing the genomic DNA sequence of the gene\n",
    "2.  a list of list (or tuples), where each sublist (tuple) contains a pair of numerical (integer) coordinates giving the start and stop coordinates (1-indexed, relative to the beginning of the sequence) of the exons of the gene. \n",
    "\n",
    "The output should be a string representing to the spliced DNA sequence of the gene (i.e. the exons concatenated in the correct order) (5 pts)"
   ]
  },
  {
   "cell_type": "code",
   "execution_count": 10,
   "metadata": {},
   "outputs": [],
   "source": [
    "# code for 4a\n",
    "\n",
    "def splice(seq, exons):\n",
    "    pass  # replace w/your code"
   ]
  },
  {
   "cell_type": "markdown",
   "metadata": {},
   "source": [
    "b) test your splice function by looking up the exon information for the yeast gene [ACT1](https://www.yeastgenome.org/locus/S000001855) at the [Saccharomyces Genome Database](https://yeastgenome.org) and using that information to splice the file [`ACT1-genomic.fsa`](https://github.com/bio208fs-class/bio208fs-lecture/raw/master/data/ACT1-genomic.fsa) and then comparing your result to the spliced version of ACT1 in the file [`ACT1-coding.fsa`](https://github.com/bio208fs-class/bio208fs-lecture/raw/master/data/ACT1-coding.fsa) (2 pts)"
   ]
  },
  {
   "cell_type": "code",
   "execution_count": null,
   "metadata": {},
   "outputs": [],
   "source": [
    "# code for 4b\n"
   ]
  }
 ],
 "metadata": {
  "kernelspec": {
   "display_name": "Python 3",
   "language": "python",
   "name": "python3"
  },
  "language_info": {
   "codemirror_mode": {
    "name": "ipython",
    "version": 3
   },
   "file_extension": ".py",
   "mimetype": "text/x-python",
   "name": "python",
   "nbconvert_exporter": "python",
   "pygments_lexer": "ipython3",
   "version": "3.7.6"
  }
 },
 "nbformat": 4,
 "nbformat_minor": 4
}

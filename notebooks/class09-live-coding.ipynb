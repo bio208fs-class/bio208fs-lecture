{
 "metadata": {
  "orig_nbformat": 2,
  "kernelspec": {
   "name": "python38564bitbio208conda0bf5d1ad0a654af58f619f590fa5f614",
   "display_name": "Python 3.8.5 64-bit ('bio208': conda)"
  }
 },
 "nbformat": 4,
 "nbformat_minor": 2,
 "cells": [
  {
   "source": [
    "## Installing modules\n",
    "\n",
    "Up to now, every Python library we've needed to use, such as Pandas, Numpy, and Matplotlib, came included with our Anaconda Python distribution.  However, there are many useful Python libraries that are not included in Anaconda Python by default, or are not directly accessible via the Anaconda package manager. \n",
    "\n",
    "In class we'll review three ways to install modules:\n",
    "\n",
    "### Installing modules using the Anaconda GUI\n",
    "\n",
    "1. Run the Anaconda Navigator program\n",
    "2. Select \"Environments\" tab on the left\n",
    "3. Select the environment you want to install a packge into -- \"base\" by default\n",
    "4. Select \"All\" in package pull down menu in right pane \n",
    "5. Search for the package of interest -- e.g. \"biopython\"\n",
    "6. Click checkbox next to packages you wish to install and then select the \"Apply\" button\n",
    "\n",
    "### Installing modules using the `conda` command line tool\n",
    "\n",
    "1. Search for the package of interest -- `conda search biopython`\n",
    "2. Install the package of interest -- `conda install biopython`\n",
    "\n",
    "### Installing modules using pip\n",
    "\n",
    "1. Search for packages of interest on [PyPI](https://pypi.org/) or via the command line, e.g. `pip search gff`\n",
    "2. Install via `pip install` command -- e.g. `pip install gffpandas`\n",
    "\n"
   ],
   "cell_type": "markdown",
   "metadata": {}
  },
  {
   "source": [
    "## Introducing Biopython\n",
    "\n",
    "Biopython is a library that contains a wide variety of functions and classes for working with bioinformatics data of various kinds.  Nucleotide and protein sequence information is particularly well supported, but Biopython has tools for a wide variety of tasks, such as running automated data base searches over the internet, working with 3D structural data,  running population genetic simulations, etc.  Today we'll focus primarily on working with sequence data and associated metadata."
   ],
   "cell_type": "markdown",
   "metadata": {}
  },
  {
   "cell_type": "code",
   "execution_count": null,
   "metadata": {},
   "outputs": [],
   "source": [
    "import Bio  # base library, this is a check to see if we installed it correctly"
   ]
  },
  {
   "source": [
    "### How do I start to learn a new library?\n",
    "\n",
    "1. Find the documentation and look for a tutorial\n",
    "2. Read, test, and extend code examples illustrating how the library works\n",
    "3. Learning how to effectively use API documentation\n",
    "4. Learn how to query Python objects in an interactive session\n",
    "5. Read the source code\n",
    "\n",
    "We'll illustrate all of these steps today as we start to get acquainted with Biopython"
   ],
   "cell_type": "markdown",
   "metadata": {}
  },
  {
   "source": [
    "### Creating Seq objects"
   ],
   "cell_type": "markdown",
   "metadata": {}
  },
  {
   "cell_type": "code",
   "execution_count": null,
   "metadata": {},
   "outputs": [],
   "source": [
    "from Bio.Seq import Seq"
   ]
  },
  {
   "cell_type": "code",
   "execution_count": null,
   "metadata": {},
   "outputs": [],
   "source": [
    "s1 = Seq(\"ATGCGCGATGA\")"
   ]
  },
  {
   "cell_type": "code",
   "execution_count": null,
   "metadata": {},
   "outputs": [],
   "source": [
    "s1"
   ]
  },
  {
   "cell_type": "code",
   "execution_count": null,
   "metadata": {},
   "outputs": [],
   "source": [
    "type(s1)"
   ]
  },
  {
   "cell_type": "code",
   "execution_count": null,
   "metadata": {},
   "outputs": [],
   "source": [
    "s1[0]  # indexing similar to strings"
   ]
  },
  {
   "cell_type": "code",
   "execution_count": null,
   "metadata": {},
   "outputs": [],
   "source": [
    "s1[0:6]  # slicing similar to strings"
   ]
  },
  {
   "source": [
    "### Biopython Seq objects have a variety of useful methods"
   ],
   "cell_type": "markdown",
   "metadata": {}
  },
  {
   "cell_type": "code",
   "execution_count": null,
   "metadata": {},
   "outputs": [],
   "source": [
    "s1.complement()"
   ]
  },
  {
   "cell_type": "code",
   "execution_count": null,
   "metadata": {},
   "outputs": [],
   "source": [
    "s1.reverse_complement()"
   ]
  },
  {
   "cell_type": "code",
   "execution_count": null,
   "metadata": {},
   "outputs": [],
   "source": [
    "s1.transcribe()"
   ]
  },
  {
   "cell_type": "code",
   "execution_count": null,
   "metadata": {},
   "outputs": [],
   "source": [
    "s1.translate()"
   ]
  },
  {
   "source": [
    "### Parsing sequence records from a FASTA file"
   ],
   "cell_type": "markdown",
   "metadata": {}
  },
  {
   "cell_type": "code",
   "execution_count": null,
   "metadata": {},
   "outputs": [],
   "source": [
    "from Bio import SeqIO"
   ]
  },
  {
   "cell_type": "code",
   "execution_count": null,
   "metadata": {
    "tags": []
   },
   "outputs": [],
   "source": [
    "# use a for loop to iterate over fasta records in a file\n",
    "for rec in SeqIO.parse(\"../data/covid-S-and-E.fsa\", format=\"fasta\"):\n",
    "    print(rec.name)"
   ]
  },
  {
   "cell_type": "code",
   "execution_count": null,
   "metadata": {},
   "outputs": [],
   "source": [
    "# use a list comprehension to get all the fasta records out of a file and store them in a list\n",
    "recs = [rec for rec in SeqIO.parse(\"../data/covid-S-and-E.fsa\",\"fasta\")]"
   ]
  },
  {
   "cell_type": "code",
   "execution_count": null,
   "metadata": {},
   "outputs": [],
   "source": [
    "recs"
   ]
  },
  {
   "cell_type": "code",
   "execution_count": null,
   "metadata": {},
   "outputs": [],
   "source": [
    "len(recs)"
   ]
  },
  {
   "cell_type": "code",
   "execution_count": null,
   "metadata": {},
   "outputs": [],
   "source": [
    "recs[0]"
   ]
  },
  {
   "cell_type": "code",
   "execution_count": null,
   "metadata": {},
   "outputs": [],
   "source": [
    "type(recs[0])"
   ]
  },
  {
   "source": [
    "Go to [Biopython documentation] and search for \"SeqRecord\". \n",
    "\n",
    "What are the attributes associated with SeqRecords?"
   ],
   "cell_type": "markdown",
   "metadata": {}
  },
  {
   "source": [
    "recs[0].seq"
   ],
   "cell_type": "markdown",
   "metadata": {}
  },
  {
   "cell_type": "code",
   "execution_count": null,
   "metadata": {},
   "outputs": [],
   "source": [
    "recs[0].name"
   ]
  },
  {
   "cell_type": "code",
   "execution_count": null,
   "metadata": {},
   "outputs": [],
   "source": [
    "recs[0].description"
   ]
  },
  {
   "source": [
    "## Parsing records from a Genbank file"
   ],
   "cell_type": "markdown",
   "metadata": {}
  },
  {
   "cell_type": "code",
   "execution_count": null,
   "metadata": {},
   "outputs": [],
   "source": [
    "filename = \"../data/NC_045512.gb\"\n",
    "covidrecs = [rec for rec in SeqIO.parse(filename, format=\"genbank\")]"
   ]
  },
  {
   "cell_type": "code",
   "execution_count": null,
   "metadata": {},
   "outputs": [],
   "source": [
    "covidrecs"
   ]
  },
  {
   "cell_type": "code",
   "execution_count": null,
   "metadata": {},
   "outputs": [],
   "source": [
    "len(covidrecs)"
   ]
  },
  {
   "cell_type": "code",
   "execution_count": null,
   "metadata": {},
   "outputs": [],
   "source": [
    "covidref = covidrecs[0]"
   ]
  },
  {
   "cell_type": "code",
   "execution_count": null,
   "metadata": {},
   "outputs": [],
   "source": [
    "covidref.name, covidref.description"
   ]
  },
  {
   "cell_type": "code",
   "execution_count": null,
   "metadata": {},
   "outputs": [],
   "source": [
    "len(covidref.features)"
   ]
  },
  {
   "cell_type": "code",
   "execution_count": null,
   "metadata": {},
   "outputs": [],
   "source": [
    "covidref.features[0]"
   ]
  },
  {
   "cell_type": "code",
   "execution_count": null,
   "metadata": {},
   "outputs": [],
   "source": [
    "type(covidref.features[0])"
   ]
  },
  {
   "source": [
    "### Lookup help on SeqFeature"
   ],
   "cell_type": "markdown",
   "metadata": {}
  },
  {
   "cell_type": "code",
   "execution_count": null,
   "metadata": {},
   "outputs": [],
   "source": [
    "covidrec.features[0].location.start, covidrec.features[0].location.end"
   ]
  },
  {
   "cell_type": "code",
   "execution_count": null,
   "metadata": {},
   "outputs": [],
   "source": [
    "covidrec.features[0].qualifiers"
   ]
  },
  {
   "cell_type": "code",
   "execution_count": null,
   "metadata": {
    "tags": []
   },
   "outputs": [],
   "source": [
    "covidrec.features[1].qualifiers"
   ]
  },
  {
   "cell_type": "code",
   "execution_count": null,
   "metadata": {},
   "outputs": [],
   "source": [
    "covidrec.features[2].qualifiers"
   ]
  },
  {
   "cell_type": "code",
   "execution_count": null,
   "metadata": {},
   "outputs": [],
   "source": [
    "covidrec.features[2].location"
   ]
  },
  {
   "cell_type": "code",
   "execution_count": null,
   "metadata": {},
   "outputs": [],
   "source": [
    "covidrec.features[40].qualifiers"
   ]
  },
  {
   "cell_type": "code",
   "execution_count": null,
   "metadata": {},
   "outputs": [],
   "source": [
    "genefeatures = [ftr for ftr in covidrec.features if ftr.type == \"gene\"]"
   ]
  },
  {
   "cell_type": "code",
   "execution_count": null,
   "metadata": {},
   "outputs": [],
   "source": [
    "len(genefeatures)"
   ]
  },
  {
   "cell_type": "code",
   "execution_count": null,
   "metadata": {},
   "outputs": [],
   "source": [
    "ftrsbyname = dict((ftr.qualifiers[\"gene\"][0], ftr)  for ftr in genefeatures)"
   ]
  },
  {
   "cell_type": "code",
   "execution_count": null,
   "metadata": {},
   "outputs": [],
   "source": [
    "type(ftrsbyname)"
   ]
  },
  {
   "cell_type": "code",
   "execution_count": null,
   "metadata": {},
   "outputs": [],
   "source": [
    "ftrsbyname.keys()"
   ]
  },
  {
   "cell_type": "code",
   "execution_count": null,
   "metadata": {},
   "outputs": [],
   "source": [
    "ftrsbyname[\"S\"].location"
   ]
  },
  {
   "cell_type": "code",
   "execution_count": null,
   "metadata": {},
   "outputs": [],
   "source": [
    "ftrsbyname[\"S\"].extract(covidre)"
   ]
  }
 ]
}
{
 "metadata": {
  "language_info": {
   "codemirror_mode": {
    "name": "ipython",
    "version": 3
   },
   "file_extension": ".py",
   "mimetype": "text/x-python",
   "name": "python",
   "nbconvert_exporter": "python",
   "pygments_lexer": "ipython3",
   "version": "3.7.7-final"
  },
  "orig_nbformat": 2,
  "kernelspec": {
   "name": "python_defaultSpec_1600134004308",
   "display_name": "Python 3.7.7 64-bit ('base': conda)"
  }
 },
 "nbformat": 4,
 "nbformat_minor": 2,
 "cells": [
  {
   "cell_type": "code",
   "execution_count": 2,
   "metadata": {},
   "outputs": [],
   "source": [
    "import pandas as pd\n",
    "import numpy as np\n",
    "from matplotlib import pyplot as plt"
   ]
  },
  {
   "cell_type": "code",
   "execution_count": 31,
   "metadata": {},
   "outputs": [
    {
     "output_type": "execute_result",
     "data": {
      "text/plain": "    Chromosome Type   Name\n0            1  ORF   YFG1\n1            1  ARS   ARS1\n2            1  ORF   YFG2\n3            1  ORF   YFG3\n4            2  ORF   YFG4\n5            2  ARS   ARS2\n6            3  ARS  ARS3a\n7            3  ORF   YFG5\n8            3  ORF   YFG6\n9            3  ARS  ARS3b\n10           3  ORF   YFG7\n11           3  ARS  ARS3c",
      "text/html": "<div>\n<style scoped>\n    .dataframe tbody tr th:only-of-type {\n        vertical-align: middle;\n    }\n\n    .dataframe tbody tr th {\n        vertical-align: top;\n    }\n\n    .dataframe thead th {\n        text-align: right;\n    }\n</style>\n<table border=\"1\" class=\"dataframe\">\n  <thead>\n    <tr style=\"text-align: right;\">\n      <th></th>\n      <th>Chromosome</th>\n      <th>Type</th>\n      <th>Name</th>\n    </tr>\n  </thead>\n  <tbody>\n    <tr>\n      <th>0</th>\n      <td>1</td>\n      <td>ORF</td>\n      <td>YFG1</td>\n    </tr>\n    <tr>\n      <th>1</th>\n      <td>1</td>\n      <td>ARS</td>\n      <td>ARS1</td>\n    </tr>\n    <tr>\n      <th>2</th>\n      <td>1</td>\n      <td>ORF</td>\n      <td>YFG2</td>\n    </tr>\n    <tr>\n      <th>3</th>\n      <td>1</td>\n      <td>ORF</td>\n      <td>YFG3</td>\n    </tr>\n    <tr>\n      <th>4</th>\n      <td>2</td>\n      <td>ORF</td>\n      <td>YFG4</td>\n    </tr>\n    <tr>\n      <th>5</th>\n      <td>2</td>\n      <td>ARS</td>\n      <td>ARS2</td>\n    </tr>\n    <tr>\n      <th>6</th>\n      <td>3</td>\n      <td>ARS</td>\n      <td>ARS3a</td>\n    </tr>\n    <tr>\n      <th>7</th>\n      <td>3</td>\n      <td>ORF</td>\n      <td>YFG5</td>\n    </tr>\n    <tr>\n      <th>8</th>\n      <td>3</td>\n      <td>ORF</td>\n      <td>YFG6</td>\n    </tr>\n    <tr>\n      <th>9</th>\n      <td>3</td>\n      <td>ARS</td>\n      <td>ARS3b</td>\n    </tr>\n    <tr>\n      <th>10</th>\n      <td>3</td>\n      <td>ORF</td>\n      <td>YFG7</td>\n    </tr>\n    <tr>\n      <th>11</th>\n      <td>3</td>\n      <td>ARS</td>\n      <td>ARS3c</td>\n    </tr>\n  </tbody>\n</table>\n</div>"
     },
     "metadata": {},
     "execution_count": 31
    }
   ],
   "source": [
    "df = pd.DataFrame({\n",
    "    \"Chromosome\":[1,1,1,1, 2, 2, 3, 3, 3, 3, 3, 3],\n",
    "    \"Type\":[\"ORF\",\"ARS\",\"ORF\",\"ORF\", \"ORF\",\"ARS\", \"ARS\",\"ORF\", \"ORF\",\"ARS\",\"ORF\",\"ARS\"],\n",
    "    \"Name\":[\"YFG1\",\"ARS1\",\"YFG2\",\"YFG3\", \"YFG4\", \"ARS2\", \"ARS3a\",\"YFG5\", \"YFG6\", \"ARS3b\", \"YFG7\",\"ARS3c\"]\n",
    "})\n",
    "df"
   ]
  },
  {
   "cell_type": "code",
   "execution_count": 32,
   "metadata": {},
   "outputs": [
    {
     "output_type": "execute_result",
     "data": {
      "text/plain": "Chromosome  Type\n1           ARS     1\n            ORF     3\n2           ARS     1\n            ORF     1\n3           ARS     3\n            ORF     3\nName: Type, dtype: int64"
     },
     "metadata": {},
     "execution_count": 32
    }
   ],
   "source": [
    " cts = df.groupby([\"Chromosome\",\"Type\"]).Type.count()\n",
    " cts"
   ]
  },
  {
   "cell_type": "code",
   "execution_count": 34,
   "metadata": {},
   "outputs": [
    {
     "output_type": "execute_result",
     "data": {
      "text/plain": "Type        ARS  ORF\nChromosome          \n1             1    3\n2             1    1\n3             3    3",
      "text/html": "<div>\n<style scoped>\n    .dataframe tbody tr th:only-of-type {\n        vertical-align: middle;\n    }\n\n    .dataframe tbody tr th {\n        vertical-align: top;\n    }\n\n    .dataframe thead th {\n        text-align: right;\n    }\n</style>\n<table border=\"1\" class=\"dataframe\">\n  <thead>\n    <tr style=\"text-align: right;\">\n      <th>Type</th>\n      <th>ARS</th>\n      <th>ORF</th>\n    </tr>\n    <tr>\n      <th>Chromosome</th>\n      <th></th>\n      <th></th>\n    </tr>\n  </thead>\n  <tbody>\n    <tr>\n      <th>1</th>\n      <td>1</td>\n      <td>3</td>\n    </tr>\n    <tr>\n      <th>2</th>\n      <td>1</td>\n      <td>1</td>\n    </tr>\n    <tr>\n      <th>3</th>\n      <td>3</td>\n      <td>3</td>\n    </tr>\n  </tbody>\n</table>\n</div>"
     },
     "metadata": {},
     "execution_count": 34
    }
   ],
   "source": [
    "cts.unstack()  # what does unstack method do? read the pandas docs"
   ]
  },
  {
   "cell_type": "code",
   "execution_count": 36,
   "metadata": {},
   "outputs": [
    {
     "output_type": "execute_result",
     "data": {
      "text/plain": "Chromosome  1  2  3\nType               \nARS         1  1  3\nORF         3  1  3",
      "text/html": "<div>\n<style scoped>\n    .dataframe tbody tr th:only-of-type {\n        vertical-align: middle;\n    }\n\n    .dataframe tbody tr th {\n        vertical-align: top;\n    }\n\n    .dataframe thead th {\n        text-align: right;\n    }\n</style>\n<table border=\"1\" class=\"dataframe\">\n  <thead>\n    <tr style=\"text-align: right;\">\n      <th>Chromosome</th>\n      <th>1</th>\n      <th>2</th>\n      <th>3</th>\n    </tr>\n    <tr>\n      <th>Type</th>\n      <th></th>\n      <th></th>\n      <th></th>\n    </tr>\n  </thead>\n  <tbody>\n    <tr>\n      <th>ARS</th>\n      <td>1</td>\n      <td>1</td>\n      <td>3</td>\n    </tr>\n    <tr>\n      <th>ORF</th>\n      <td>3</td>\n      <td>1</td>\n      <td>3</td>\n    </tr>\n  </tbody>\n</table>\n</div>"
     },
     "metadata": {},
     "execution_count": 36
    }
   ],
   "source": [
    "cts.unstack(level=0)  # what does changing this argument do differently?"
   ]
  },
  {
   "cell_type": "code",
   "execution_count": 35,
   "metadata": {},
   "outputs": [
    {
     "output_type": "execute_result",
     "data": {
      "text/plain": "Chromosome  Type\n1           ARS     1\n            ORF     3\n2           ARS     1\n            ORF     1\n3           ARS     3\n            ORF     3\ndtype: int64"
     },
     "metadata": {},
     "execution_count": 35
    }
   ],
   "source": [
    "cts.unstack().stack() # what does stack method do?"
   ]
  },
  {
   "cell_type": "code",
   "execution_count": null,
   "metadata": {},
   "outputs": [],
   "source": []
  }
 ]
}
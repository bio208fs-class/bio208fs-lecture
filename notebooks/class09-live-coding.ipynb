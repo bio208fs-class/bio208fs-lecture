{
 "cells": [
  {
   "cell_type": "markdown",
   "metadata": {},
   "source": [
    "# Introduction to Biopython"
   ]
  },
  {
   "cell_type": "markdown",
   "metadata": {},
   "source": [
    "## Installing Biopython\n",
    "\n",
    "Up to now, every Python library we've needed to use, such as Pandas, Numpy, and Matplotlib, came included with our Anaconda Python distribution.  However, there are many useful Python libraries that are not included in Anaconda Python by default, or are not directly accessible via the Anaconda package manager. \n",
    "\n",
    "In class we'll review three ways to install modules:\n",
    "\n",
    "### Installing modules using the Anaconda GUI\n",
    "\n",
    "1. Run the Anaconda Navigator program\n",
    "2. Select \"Environments\" tab on the left\n",
    "3. Select the environment you want to install a packge into -- \"base\" by default\n",
    "4. Select \"All\" in package pull down menu in right pane \n",
    "5. Search for the package of interest -- e.g. \"biopython\"\n",
    "6. Click checkbox next to packages you wish to install and then select the \"Apply\" button\n",
    "\n",
    "### Installing modules using the `conda` command line tool\n",
    "\n",
    "1. Search for the package of interest -- `conda search biopython`\n",
    "2. Install the package of interest -- `conda install biopython`\n",
    "\n",
    "### Installing modules using pip\n",
    "\n",
    "1. Search for packages of interest on [PyPI](https://pypi.org/) or via the command line, e.g. `pip search gff`\n",
    "2. Install via `pip install` command -- e.g. `pip install gffpandas`\n",
    "\n"
   ]
  },
  {
   "cell_type": "markdown",
   "metadata": {},
   "source": [
    "## Biopython\n",
    "\n",
    "Biopython is a library that contains a wide variety of functions and classes for working with bioinformatics data of various kinds.  Nucleotide and protein sequence information is particularly well supported, but Biopython has tools for a wide variety of tasks, such as running automated data base searches over the internet, working with 3D structural data,  running population genetic simulations, etc.  Today we'll focus primarily on working with sequence data and associated metadata."
   ]
  },
  {
   "cell_type": "code",
   "execution_count": 1,
   "metadata": {},
   "outputs": [],
   "source": [
    "import Bio  # base library, this is a check to see if we installed it correctly"
   ]
  },
  {
   "cell_type": "markdown",
   "metadata": {},
   "source": [
    "### How do I start to learn a new library?\n",
    "\n",
    "1. Find the documentation and look for a tutorial\n",
    "2. Read, test, and extend code examples illustrating how the library works\n",
    "3. Learning how to effectively use API documentation\n",
    "4. Learn how to query Python objects in an interactive session\n",
    "5. Read the source code\n",
    "\n",
    "We'll illustrate all of these steps today as we start to get acquainted with Biopython"
   ]
  },
  {
   "cell_type": "markdown",
   "metadata": {},
   "source": [
    "## CLASS TODO\n",
    "1. Find the Biopython home page\n",
    "2. Find the link to the Biopython documentation\n",
    "3. Go the the API (application programmers interface) documentation"
   ]
  },
  {
   "cell_type": "markdown",
   "metadata": {},
   "source": [
    "### Seq objects"
   ]
  },
  {
   "cell_type": "code",
   "execution_count": 2,
   "metadata": {},
   "outputs": [],
   "source": [
    "from Bio.Seq import Seq"
   ]
  },
  {
   "cell_type": "code",
   "execution_count": 3,
   "metadata": {},
   "outputs": [],
   "source": [
    "# create a sequence object\n",
    "s1 = Seq(\"ATGCGCGATGA\")"
   ]
  },
  {
   "cell_type": "code",
   "execution_count": 4,
   "metadata": {},
   "outputs": [
    {
     "data": {
      "text/plain": [
       "Seq('ATGCGCGATGA')"
      ]
     },
     "execution_count": 4,
     "metadata": {},
     "output_type": "execute_result"
    }
   ],
   "source": [
    "# looks like a fancy string\n",
    "s1"
   ]
  },
  {
   "cell_type": "code",
   "execution_count": 5,
   "metadata": {},
   "outputs": [
    {
     "data": {
      "text/plain": [
       "'A'"
      ]
     },
     "execution_count": 5,
     "metadata": {},
     "output_type": "execute_result"
    }
   ],
   "source": [
    "s1[0] # we can index Seqs like strings"
   ]
  },
  {
   "cell_type": "code",
   "execution_count": 6,
   "metadata": {},
   "outputs": [
    {
     "data": {
      "text/plain": [
       "Seq('ATG')"
      ]
     },
     "execution_count": 6,
     "metadata": {},
     "output_type": "execute_result"
    }
   ],
   "source": [
    "s1[:3] # we can slice Seqs like strings"
   ]
  },
  {
   "cell_type": "code",
   "execution_count": 7,
   "metadata": {},
   "outputs": [
    {
     "data": {
      "text/plain": [
       "'ATGCGCGATGA'"
      ]
     },
     "execution_count": 7,
     "metadata": {},
     "output_type": "execute_result"
    }
   ],
   "source": [
    "# We can cast Seqs to strings\n",
    "str(s1)"
   ]
  },
  {
   "cell_type": "markdown",
   "metadata": {},
   "source": [
    "## CLASS TODO\n",
    "\n",
    "1. Find the Bio.Seq page in API docs\n",
    "2. Skim the documentation for the non-dunder methods to get a sense of what sort of built-in functionality Seq objects have"
   ]
  },
  {
   "cell_type": "markdown",
   "metadata": {},
   "source": [
    "### Python tools for introspection and documentation\n",
    "\n",
    "How can we discover what we can do with objects in Python? A great way of course is to read the documentation online, but there are a number of ways to explore what sorts of methods are associated with objects from within the interpreter itself.\n"
   ]
  },
  {
   "cell_type": "markdown",
   "metadata": {},
   "source": [
    "#### The type() function \n",
    "A good starting place is to use the `type` function to query an object about its type."
   ]
  },
  {
   "cell_type": "code",
   "execution_count": 8,
   "metadata": {},
   "outputs": [
    {
     "data": {
      "text/plain": [
       "Bio.Seq.Seq"
      ]
     },
     "execution_count": 8,
     "metadata": {},
     "output_type": "execute_result"
    }
   ],
   "source": [
    "type(s1) "
   ]
  },
  {
   "cell_type": "markdown",
   "metadata": {},
   "source": [
    "### Accessing doc strings\n",
    "\n",
    "Once you know what type of object you're dealing with you can see if there is any useful information in the doc strings for that type.  Two ways to do that are using the standard Python `help` function or using the Jupyter `?` command (specific to using the Jupyter environment).  The `?` command usually produces shorter, more succinct output so I'll usually try that first before the `help` command."
   ]
  },
  {
   "cell_type": "code",
   "execution_count": 9,
   "metadata": {},
   "outputs": [
    {
     "data": {
      "text/plain": [
       "\u001b[0;31mInit signature:\u001b[0m \u001b[0mBio\u001b[0m\u001b[0;34m.\u001b[0m\u001b[0mSeq\u001b[0m\u001b[0;34m.\u001b[0m\u001b[0mSeq\u001b[0m\u001b[0;34m(\u001b[0m\u001b[0mdata\u001b[0m\u001b[0;34m,\u001b[0m \u001b[0malphabet\u001b[0m\u001b[0;34m=\u001b[0m\u001b[0mAlphabet\u001b[0m\u001b[0;34m(\u001b[0m\u001b[0;34m)\u001b[0m\u001b[0;34m)\u001b[0m\u001b[0;34m\u001b[0m\u001b[0;34m\u001b[0m\u001b[0m\n",
       "\u001b[0;31mDocstring:\u001b[0m     \n",
       "Read-only sequence object (essentially a string with an alphabet).\n",
       "\n",
       "Like normal python strings, our basic sequence object is immutable.\n",
       "This prevents you from doing my_seq[5] = \"A\" for example, but does allow\n",
       "Seq objects to be used as dictionary keys.\n",
       "\n",
       "The Seq object provides a number of string like methods (such as count,\n",
       "find, split and strip), which are alphabet aware where appropriate.\n",
       "\n",
       "In addition to the string like sequence, the Seq object has an alphabet\n",
       "property. This is an instance of an Alphabet class from Bio.Alphabet,\n",
       "for example generic DNA, or IUPAC DNA. This describes the type of molecule\n",
       "(e.g. RNA, DNA, protein) and may also indicate the expected symbols\n",
       "(letters).\n",
       "\n",
       "The Seq object also provides some biological methods, such as complement,\n",
       "reverse_complement, transcribe, back_transcribe and translate (which are\n",
       "not applicable to sequences with a protein alphabet).\n",
       "\u001b[0;31mInit docstring:\u001b[0m\n",
       "Create a Seq object.\n",
       "\n",
       "Arguments:\n",
       " - seq - Sequence, required (string)\n",
       " - alphabet - Optional argument, an Alphabet object from\n",
       "   Bio.Alphabet\n",
       "\n",
       "You will typically use Bio.SeqIO to read in sequences from files as\n",
       "SeqRecord objects, whose sequence will be exposed as a Seq object via\n",
       "the seq property.\n",
       "\n",
       "However, will often want to create your own Seq objects directly:\n",
       "\n",
       ">>> from Bio.Seq import Seq\n",
       ">>> from Bio.Alphabet import IUPAC\n",
       ">>> my_seq = Seq(\"MKQHKAMIVALIVICITAVVAALVTRKDLCEVHIRTGQTEVAVF\",\n",
       "...              IUPAC.protein)\n",
       ">>> my_seq\n",
       "Seq('MKQHKAMIVALIVICITAVVAALVTRKDLCEVHIRTGQTEVAVF', IUPACProtein())\n",
       ">>> print(my_seq)\n",
       "MKQHKAMIVALIVICITAVVAALVTRKDLCEVHIRTGQTEVAVF\n",
       ">>> my_seq.alphabet\n",
       "IUPACProtein()\n",
       "\u001b[0;31mFile:\u001b[0m           ~/anaconda3/envs/bio208/lib/python3.8/site-packages/Bio/Seq.py\n",
       "\u001b[0;31mType:\u001b[0m           type\n",
       "\u001b[0;31mSubclasses:\u001b[0m     UnknownSeq\n"
      ]
     },
     "metadata": {},
     "output_type": "display_data"
    }
   ],
   "source": [
    "Bio.Seq.Seq?"
   ]
  },
  {
   "cell_type": "markdown",
   "metadata": {},
   "source": [
    "### The `dir` function"
   ]
  },
  {
   "cell_type": "markdown",
   "metadata": {},
   "source": [
    "The `dir` function is another that is useful for introspection. `dir` returns a list of strings that give the names of all the \"attributes\" or \"fields\" (methods and non-method attributes) associated with an object or type."
   ]
  },
  {
   "cell_type": "code",
   "execution_count": 10,
   "metadata": {},
   "outputs": [
    {
     "data": {
      "text/plain": [
       "['__add__',\n",
       " '__class__',\n",
       " '__contains__',\n",
       " '__delattr__',\n",
       " '__dict__',\n",
       " '__dir__',\n",
       " '__doc__',\n",
       " '__eq__',\n",
       " '__format__',\n",
       " '__ge__',\n",
       " '__getattribute__',\n",
       " '__getitem__',\n",
       " '__gt__',\n",
       " '__hash__',\n",
       " '__imul__',\n",
       " '__init__',\n",
       " '__init_subclass__',\n",
       " '__le__',\n",
       " '__len__',\n",
       " '__lt__',\n",
       " '__module__',\n",
       " '__mul__',\n",
       " '__ne__',\n",
       " '__new__',\n",
       " '__radd__',\n",
       " '__reduce__',\n",
       " '__reduce_ex__',\n",
       " '__repr__',\n",
       " '__rmul__',\n",
       " '__setattr__',\n",
       " '__sizeof__',\n",
       " '__str__',\n",
       " '__subclasshook__',\n",
       " '__weakref__',\n",
       " '_data',\n",
       " '_get_seq_str_and_check_alphabet',\n",
       " 'alphabet',\n",
       " 'back_transcribe',\n",
       " 'complement',\n",
       " 'count',\n",
       " 'count_overlap',\n",
       " 'encode',\n",
       " 'endswith',\n",
       " 'find',\n",
       " 'index',\n",
       " 'join',\n",
       " 'lower',\n",
       " 'lstrip',\n",
       " 'reverse_complement',\n",
       " 'rfind',\n",
       " 'rindex',\n",
       " 'rsplit',\n",
       " 'rstrip',\n",
       " 'split',\n",
       " 'startswith',\n",
       " 'strip',\n",
       " 'tomutable',\n",
       " 'transcribe',\n",
       " 'translate',\n",
       " 'ungap',\n",
       " 'upper']"
      ]
     },
     "execution_count": 10,
     "metadata": {},
     "output_type": "execute_result"
    }
   ],
   "source": [
    "dir(s1) # could also do dir(Bio.Seq.Seq)"
   ]
  },
  {
   "cell_type": "markdown",
   "metadata": {},
   "source": [
    "All the names with underscores (e.g. of the form `__name__`) are called \"dunder methods\". These dunder methods are important in terms of how the functionality of an object is implemented but tend to be less important in terms of how we as users of these objects are likely to use them.  So sometimes it can be useful to filter them out."
   ]
  },
  {
   "cell_type": "code",
   "execution_count": 11,
   "metadata": {},
   "outputs": [
    {
     "data": {
      "text/plain": [
       "['alphabet',\n",
       " 'back_transcribe',\n",
       " 'complement',\n",
       " 'count',\n",
       " 'count_overlap',\n",
       " 'encode',\n",
       " 'endswith',\n",
       " 'find',\n",
       " 'index',\n",
       " 'join',\n",
       " 'lower',\n",
       " 'lstrip',\n",
       " 'reverse_complement',\n",
       " 'rfind',\n",
       " 'rindex',\n",
       " 'rsplit',\n",
       " 'rstrip',\n",
       " 'split',\n",
       " 'startswith',\n",
       " 'strip',\n",
       " 'tomutable',\n",
       " 'transcribe',\n",
       " 'translate',\n",
       " 'ungap',\n",
       " 'upper']"
      ]
     },
     "execution_count": 11,
     "metadata": {},
     "output_type": "execute_result"
    }
   ],
   "source": [
    "[i for i in dir(s1) if not i.startswith(\"_\")]  # get the attributes, hiding the \"dunders\""
   ]
  },
  {
   "cell_type": "markdown",
   "metadata": {},
   "source": [
    "We can recursively apply the `type`, `help` and `dir` functions to the attributes of an object, as illustrated below:"
   ]
  },
  {
   "cell_type": "markdown",
   "metadata": {},
   "source": [
    "## The Jupyter environment facilitates introspection\n",
    "\n",
    "Since we're primarily working in the Jupyter notebook environment, we can take advantage of the features that Jupyter provides for exploring objects."
   ]
  },
  {
   "cell_type": "markdown",
   "metadata": {},
   "source": [
    "### Use code completion to explore object attributes\n",
    "\n",
    "Jupyter's code completion facilities can help you identify object attributes and access docstrings.  \n",
    "\n",
    "To use these feature start by typing the variable name of an object, followed by a period and then hit the tab key on your keyboard. This prompts Jupyter to show you the objects attributes:\n",
    "\n",
    "* `s1.<Tab>` -- show object attributes\n",
    "\n",
    "If you're working with a function or method and you can't recall the details of the arguments, Jupyter can help you as well.  Type the name of the the function/method followed by the parentheses and with your cursor inside the parentheses hold the shift key down and press tab `<Shift-Tab>` and Jupyter will show you a pop-up window with the function signature and a short version of the functions doc strings.\n",
    "\n",
    "* `s1.translate(<cursor here, <Shift-Tab>>)` -- show doc strings\n"
   ]
  },
  {
   "cell_type": "markdown",
   "metadata": {},
   "source": [
    "### Methods on Bio.Seq objects\n",
    "\n",
    "`Seq` objects define a number of useful methods, some related to string-like manipulations and others that are specific to biological sequences."
   ]
  },
  {
   "cell_type": "code",
   "execution_count": 12,
   "metadata": {},
   "outputs": [
    {
     "data": {
      "text/plain": [
       "Seq('TACGCGCTACT')"
      ]
     },
     "execution_count": 12,
     "metadata": {},
     "output_type": "execute_result"
    }
   ],
   "source": [
    "s1.complement()"
   ]
  },
  {
   "cell_type": "code",
   "execution_count": 13,
   "metadata": {},
   "outputs": [
    {
     "data": {
      "text/plain": [
       "Seq('TCATCGCGCAT')"
      ]
     },
     "execution_count": 13,
     "metadata": {},
     "output_type": "execute_result"
    }
   ],
   "source": [
    "s1.reverse_complement()"
   ]
  },
  {
   "cell_type": "code",
   "execution_count": 14,
   "metadata": {},
   "outputs": [
    {
     "data": {
      "text/plain": [
       "Seq('AUGCGCGAUGA', RNAAlphabet())"
      ]
     },
     "execution_count": 14,
     "metadata": {},
     "output_type": "execute_result"
    }
   ],
   "source": [
    "s1.transcribe() "
   ]
  },
  {
   "cell_type": "code",
   "execution_count": 15,
   "metadata": {},
   "outputs": [
    {
     "name": "stderr",
     "output_type": "stream",
     "text": [
      "/Users/pmagwene/anaconda3/envs/bio208/lib/python3.8/site-packages/Bio/Seq.py:2738: BiopythonWarning: Partial codon, len(sequence) not a multiple of three. Explicitly trim the sequence or add trailing N before translation. This may become an error in future.\n",
      "  warnings.warn(\n"
     ]
    },
    {
     "data": {
      "text/plain": [
       "Seq('MRD', ExtendedIUPACProtein())"
      ]
     },
     "execution_count": 15,
     "metadata": {},
     "output_type": "execute_result"
    }
   ],
   "source": [
    "s1.translate()"
   ]
  },
  {
   "cell_type": "code",
   "execution_count": 16,
   "metadata": {},
   "outputs": [
    {
     "data": {
      "text/plain": [
       "2"
      ]
     },
     "execution_count": 16,
     "metadata": {},
     "output_type": "execute_result"
    }
   ],
   "source": [
    "s1.count(\"TG\") # count the number of occurences of the substring \"TG\""
   ]
  },
  {
   "cell_type": "code",
   "execution_count": 17,
   "metadata": {},
   "outputs": [
    {
     "data": {
      "text/plain": [
       "1"
      ]
     },
     "execution_count": 17,
     "metadata": {},
     "output_type": "execute_result"
    }
   ],
   "source": [
    "s1.find(\"TG\") # find the index of the first occurence of \"TG\""
   ]
  },
  {
   "cell_type": "markdown",
   "metadata": {},
   "source": [
    "### Specifying the Alphabet of a Seq object\n",
    "\n",
    "You may have noticed in the examples above that when we used the `transcribe` and `translate` methods we got back sequences that had additional information when we displayed them, for example: `Seq('AUGCGCGAUGA', RNAAlphabet())`. This is because `Seq` objects always have an associated \"Alphabet\" that specifies the type of sequence type we're dealing with (DNA, RNA, or Protein).  If we don't specify an Alphabet type when the `Seq` is created, then a generic Alphabet is used."
   ]
  },
  {
   "cell_type": "code",
   "execution_count": 18,
   "metadata": {},
   "outputs": [
    {
     "data": {
      "text/plain": [
       "Alphabet()"
      ]
     },
     "execution_count": 18,
     "metadata": {},
     "output_type": "execute_result"
    }
   ],
   "source": [
    "s1.alphabet  # generic alphabet"
   ]
  },
  {
   "cell_type": "code",
   "execution_count": 19,
   "metadata": {},
   "outputs": [
    {
     "data": {
      "text/plain": [
       "Seq('ATGCAT', DNAAlphabet())"
      ]
     },
     "execution_count": 19,
     "metadata": {},
     "output_type": "execute_result"
    }
   ],
   "source": [
    "s2 = Seq(\"ATGCAT\", alphabet=Bio.Alphabet.DNAAlphabet())  # explicitly create a DNA sequence\n",
    "s2"
   ]
  },
  {
   "cell_type": "code",
   "execution_count": 20,
   "metadata": {},
   "outputs": [
    {
     "data": {
      "text/plain": [
       "Seq('ATGCGCGATGA', DNAAlphabet())"
      ]
     },
     "execution_count": 20,
     "metadata": {},
     "output_type": "execute_result"
    }
   ],
   "source": [
    "s1.alphabet = Bio.Alphabet.DNAAlphabet()  # You can change the alphabet by setting the alphabet attribute\n",
    "s1"
   ]
  },
  {
   "cell_type": "code",
   "execution_count": 21,
   "metadata": {},
   "outputs": [
    {
     "data": {
      "text/plain": [
       "RNAAlphabet()"
      ]
     },
     "execution_count": 21,
     "metadata": {},
     "output_type": "execute_result"
    }
   ],
   "source": [
    "r2 = s2.transcribe()\n",
    "r2.alphabet  # the transcribe function returns a new sequence whose alphabet is RNAAlphabet"
   ]
  },
  {
   "cell_type": "code",
   "execution_count": 22,
   "metadata": {},
   "outputs": [
    {
     "data": {
      "text/plain": [
       "ExtendedIUPACProtein()"
      ]
     },
     "execution_count": 22,
     "metadata": {},
     "output_type": "execute_result"
    }
   ],
   "source": [
    "p2 = s2.translate()\n",
    "p2.alphabet  # the translate function returns a new sequences whose alphabet is ExtendedIUPACProtein"
   ]
  },
  {
   "cell_type": "markdown",
   "metadata": {},
   "source": [
    "### Parsing sequence records from a FASTA file"
   ]
  },
  {
   "cell_type": "markdown",
   "metadata": {},
   "source": [
    "## CLASS TODO\n",
    "\n",
    "1. Read the Bio.SeqIO.parse docs and short examples"
   ]
  },
  {
   "cell_type": "code",
   "execution_count": 23,
   "metadata": {},
   "outputs": [],
   "source": [
    "from Bio import SeqIO"
   ]
  },
  {
   "cell_type": "code",
   "execution_count": 24,
   "metadata": {
    "tags": []
   },
   "outputs": [
    {
     "name": "stdout",
     "output_type": "stream",
     "text": [
      "YP_009724390.1\n",
      "YP_009724392.1\n"
     ]
    }
   ],
   "source": [
    "# use a for loop to iterate over fasta records in a file\n",
    "# change the file path as needed\n",
    "\n",
    "for rec in SeqIO.parse(\"../data/covid-S-and-E.fsa\", format=\"fasta\"):\n",
    "    print(rec.name)"
   ]
  },
  {
   "cell_type": "code",
   "execution_count": 25,
   "metadata": {},
   "outputs": [],
   "source": [
    "# use a list comprehension to get all the fasta records out of a file and store them in a list\n",
    "recs = [rec for rec in SeqIO.parse(\"../data/covid-S-and-E.fsa\",\"fasta\")]"
   ]
  },
  {
   "cell_type": "code",
   "execution_count": 26,
   "metadata": {},
   "outputs": [
    {
     "data": {
      "text/plain": [
       "[SeqRecord(seq=Seq('MFVFLVLLPLVSSQCVNLTTRTQLPPAYTNSFTRGVYYPDKVFRSSVLHSTQDL...HYT', SingleLetterAlphabet()), id='YP_009724390.1', name='YP_009724390.1', description='YP_009724390.1 surface glycoprotein [Severe acute respiratory syndrome coronavirus 2]', dbxrefs=[]),\n",
       " SeqRecord(seq=Seq('MYSFVSEETGTLIVNSVLLFLAFVVFLLVTLAILTALRLCAYCCNIVNVSLVKP...LLV', SingleLetterAlphabet()), id='YP_009724392.1', name='YP_009724392.1', description='YP_009724392.1 envelope protein [Severe acute respiratory syndrome coronavirus 2]', dbxrefs=[])]"
      ]
     },
     "execution_count": 26,
     "metadata": {},
     "output_type": "execute_result"
    }
   ],
   "source": [
    "recs"
   ]
  },
  {
   "cell_type": "code",
   "execution_count": 27,
   "metadata": {},
   "outputs": [
    {
     "data": {
      "text/plain": [
       "2"
      ]
     },
     "execution_count": 27,
     "metadata": {},
     "output_type": "execute_result"
    }
   ],
   "source": [
    "len(recs)"
   ]
  },
  {
   "cell_type": "code",
   "execution_count": 28,
   "metadata": {},
   "outputs": [
    {
     "data": {
      "text/plain": [
       "SeqRecord(seq=Seq('MFVFLVLLPLVSSQCVNLTTRTQLPPAYTNSFTRGVYYPDKVFRSSVLHSTQDL...HYT', SingleLetterAlphabet()), id='YP_009724390.1', name='YP_009724390.1', description='YP_009724390.1 surface glycoprotein [Severe acute respiratory syndrome coronavirus 2]', dbxrefs=[])"
      ]
     },
     "execution_count": 28,
     "metadata": {},
     "output_type": "execute_result"
    }
   ],
   "source": [
    "recs[0]"
   ]
  },
  {
   "cell_type": "code",
   "execution_count": 29,
   "metadata": {},
   "outputs": [
    {
     "data": {
      "text/plain": [
       "Bio.SeqRecord.SeqRecord"
      ]
     },
     "execution_count": 29,
     "metadata": {},
     "output_type": "execute_result"
    }
   ],
   "source": [
    "type(recs[0])"
   ]
  },
  {
   "cell_type": "code",
   "execution_count": 30,
   "metadata": {},
   "outputs": [],
   "source": [
    "rec0 = recs[0]  # assign the first rec to the variable rec0"
   ]
  },
  {
   "cell_type": "markdown",
   "metadata": {},
   "source": [
    "## CLASS TODO\n",
    "\n",
    "1. Find the SeqRecord page in API docs\n",
    "2. What are the non-method attributes associated with SeqRecords?\n",
    "3. What are the methods associated with SeqRecords"
   ]
  },
  {
   "cell_type": "code",
   "execution_count": 31,
   "metadata": {},
   "outputs": [
    {
     "data": {
      "text/plain": [
       "'YP_009724390.1'"
      ]
     },
     "execution_count": 31,
     "metadata": {},
     "output_type": "execute_result"
    }
   ],
   "source": [
    "rec0.id"
   ]
  },
  {
   "cell_type": "code",
   "execution_count": 32,
   "metadata": {},
   "outputs": [
    {
     "data": {
      "text/plain": [
       "'YP_009724390.1'"
      ]
     },
     "execution_count": 32,
     "metadata": {},
     "output_type": "execute_result"
    }
   ],
   "source": [
    "rec0.name"
   ]
  },
  {
   "cell_type": "code",
   "execution_count": 33,
   "metadata": {},
   "outputs": [
    {
     "data": {
      "text/plain": [
       "'YP_009724390.1 surface glycoprotein [Severe acute respiratory syndrome coronavirus 2]'"
      ]
     },
     "execution_count": 33,
     "metadata": {},
     "output_type": "execute_result"
    }
   ],
   "source": [
    "rec0.description"
   ]
  },
  {
   "cell_type": "code",
   "execution_count": 34,
   "metadata": {},
   "outputs": [
    {
     "data": {
      "text/plain": [
       "Seq('MFVFLVLLPLVSSQCVNLTTRTQLPPAYTNSFTRGVYYPDKVFRSSVLHSTQDL...HYT', SingleLetterAlphabet())"
      ]
     },
     "execution_count": 34,
     "metadata": {},
     "output_type": "execute_result"
    }
   ],
   "source": [
    "rec0.seq  # get the sequence associated with rec0"
   ]
  },
  {
   "cell_type": "code",
   "execution_count": 35,
   "metadata": {},
   "outputs": [
    {
     "data": {
      "text/plain": [
       "[]"
      ]
     },
     "execution_count": 35,
     "metadata": {},
     "output_type": "execute_result"
    }
   ],
   "source": [
    "rec0.features # get any features associated with rec0"
   ]
  },
  {
   "cell_type": "markdown",
   "metadata": {},
   "source": [
    "## Parsing records from a Genbank file"
   ]
  },
  {
   "cell_type": "markdown",
   "metadata": {},
   "source": [
    "`SeqIO.parse` also works with Genbank files (and other commons file types as well, see SeqIO documentation):"
   ]
  },
  {
   "cell_type": "code",
   "execution_count": 36,
   "metadata": {},
   "outputs": [],
   "source": [
    "filename = \"../data/NC_045512.gb\"\n",
    "covidrecs = [rec for rec in SeqIO.parse(filename, format=\"genbank\")]"
   ]
  },
  {
   "cell_type": "code",
   "execution_count": 37,
   "metadata": {},
   "outputs": [
    {
     "data": {
      "text/plain": [
       "[SeqRecord(seq=Seq('ATTAAAGGTTTATACCTTCCCAGGTAACAAACCAACCAACTTTCGATCTCTTGT...AAA', IUPACAmbiguousDNA()), id='NC_045512.2', name='NC_045512', description='Severe acute respiratory syndrome coronavirus 2 isolate Wuhan-Hu-1, complete genome', dbxrefs=['BioProject:PRJNA485481'])]"
      ]
     },
     "execution_count": 37,
     "metadata": {},
     "output_type": "execute_result"
    }
   ],
   "source": [
    "covidrecs"
   ]
  },
  {
   "cell_type": "code",
   "execution_count": 38,
   "metadata": {},
   "outputs": [
    {
     "data": {
      "text/plain": [
       "1"
      ]
     },
     "execution_count": 38,
     "metadata": {},
     "output_type": "execute_result"
    }
   ],
   "source": [
    "len(covidrecs)"
   ]
  },
  {
   "cell_type": "code",
   "execution_count": 39,
   "metadata": {},
   "outputs": [],
   "source": [
    "covidref = covidrecs[0]"
   ]
  },
  {
   "cell_type": "code",
   "execution_count": 40,
   "metadata": {},
   "outputs": [
    {
     "data": {
      "text/plain": [
       "('NC_045512',\n",
       " 'Severe acute respiratory syndrome coronavirus 2 isolate Wuhan-Hu-1, complete genome')"
      ]
     },
     "execution_count": 40,
     "metadata": {},
     "output_type": "execute_result"
    }
   ],
   "source": [
    "covidref.name, covidref.description"
   ]
  },
  {
   "cell_type": "code",
   "execution_count": 41,
   "metadata": {},
   "outputs": [
    {
     "data": {
      "text/plain": [
       "Seq('ATTAAAGGTTTATACCTTCCCAGGTAACAAACCAACCAACTTTCGATCTCTTGT...AAA', IUPACAmbiguousDNA())"
      ]
     },
     "execution_count": 41,
     "metadata": {},
     "output_type": "execute_result"
    }
   ],
   "source": [
    "covidref.seq"
   ]
  },
  {
   "cell_type": "code",
   "execution_count": 42,
   "metadata": {},
   "outputs": [
    {
     "data": {
      "text/plain": [
       "57"
      ]
     },
     "execution_count": 42,
     "metadata": {},
     "output_type": "execute_result"
    }
   ],
   "source": [
    "len(covidref.features)  # Since the genbank file specifies features, we can access them here"
   ]
  },
  {
   "cell_type": "code",
   "execution_count": 43,
   "metadata": {},
   "outputs": [
    {
     "data": {
      "text/plain": [
       "[SeqFeature(FeatureLocation(ExactPosition(0), ExactPosition(29903), strand=1), type='source'),\n",
       " SeqFeature(FeatureLocation(ExactPosition(0), ExactPosition(265), strand=1), type=\"5'UTR\"),\n",
       " SeqFeature(FeatureLocation(ExactPosition(265), ExactPosition(21555), strand=1), type='gene')]"
      ]
     },
     "execution_count": 43,
     "metadata": {},
     "output_type": "execute_result"
    }
   ],
   "source": [
    "covidref.features[:3]"
   ]
  },
  {
   "cell_type": "code",
   "execution_count": 44,
   "metadata": {},
   "outputs": [
    {
     "data": {
      "text/plain": [
       "SeqFeature(FeatureLocation(ExactPosition(0), ExactPosition(29903), strand=1), type='source')"
      ]
     },
     "execution_count": 44,
     "metadata": {},
     "output_type": "execute_result"
    }
   ],
   "source": [
    "ftr0 = covidref.features[0]\n",
    "ftr0"
   ]
  },
  {
   "cell_type": "code",
   "execution_count": 45,
   "metadata": {},
   "outputs": [
    {
     "data": {
      "text/plain": [
       "Bio.SeqFeature.SeqFeature"
      ]
     },
     "execution_count": 45,
     "metadata": {},
     "output_type": "execute_result"
    }
   ],
   "source": [
    "type(ftr0)"
   ]
  },
  {
   "cell_type": "code",
   "execution_count": 46,
   "metadata": {},
   "outputs": [
    {
     "data": {
      "text/plain": [
       "('<unknown id>',\n",
       " 'source',\n",
       " OrderedDict([('organism',\n",
       "               ['Severe acute respiratory syndrome coronavirus 2']),\n",
       "              ('mol_type', ['genomic RNA']),\n",
       "              ('isolate', ['Wuhan-Hu-1']),\n",
       "              ('host', ['Homo sapiens']),\n",
       "              ('db_xref', ['taxon:2697049']),\n",
       "              ('country', ['China']),\n",
       "              ('collection_date', ['Dec-2019'])]))"
      ]
     },
     "execution_count": 46,
     "metadata": {},
     "output_type": "execute_result"
    }
   ],
   "source": [
    "ftr0.id, ftr0.type, ftr0.qualifiers"
   ]
  },
  {
   "cell_type": "markdown",
   "metadata": {},
   "source": [
    "**IMPORTANT**: features have a location, the coordinates of which are 0-indexed (i.e. Biopython converts the 1-indexed coordinates used in the Genbank files to 0-indexed coordinate so that when we use the translated coordinates to slice Seq objects we get the right substrings)"
   ]
  },
  {
   "cell_type": "code",
   "execution_count": 47,
   "metadata": {},
   "outputs": [
    {
     "data": {
      "text/plain": [
       "FeatureLocation(ExactPosition(0), ExactPosition(29903), strand=1)"
      ]
     },
     "execution_count": 47,
     "metadata": {},
     "output_type": "execute_result"
    }
   ],
   "source": [
    "ftr0.location"
   ]
  },
  {
   "cell_type": "code",
   "execution_count": 48,
   "metadata": {},
   "outputs": [
    {
     "data": {
      "text/plain": [
       "Bio.SeqFeature.FeatureLocation"
      ]
     },
     "execution_count": 48,
     "metadata": {},
     "output_type": "execute_result"
    }
   ],
   "source": [
    "type(ftr0.location)"
   ]
  },
  {
   "cell_type": "code",
   "execution_count": 49,
   "metadata": {},
   "outputs": [
    {
     "data": {
      "text/plain": [
       "(ExactPosition(0), ExactPosition(29903))"
      ]
     },
     "execution_count": 49,
     "metadata": {},
     "output_type": "execute_result"
    }
   ],
   "source": [
    "ftr0.location.start, ftr0.location.end"
   ]
  },
  {
   "cell_type": "code",
   "execution_count": 50,
   "metadata": {},
   "outputs": [
    {
     "data": {
      "text/plain": [
       "Seq('ATTAAAGGTTTATACCTTCCCAGGTAACAAACCAACCAACTTTCGATCTCTTGT...AAA', IUPACAmbiguousDNA())"
      ]
     },
     "execution_count": 50,
     "metadata": {},
     "output_type": "execute_result"
    }
   ],
   "source": [
    "covidref.seq[ftr0.location.start:ftr0.location.end]"
   ]
  },
  {
   "cell_type": "markdown",
   "metadata": {},
   "source": [
    "Let's iterate over all the features to find out their types:"
   ]
  },
  {
   "cell_type": "code",
   "execution_count": 51,
   "metadata": {},
   "outputs": [
    {
     "name": "stdout",
     "output_type": "stream",
     "text": [
      "Feature 0 is a source\n",
      "Feature 1 is a 5'UTR\n",
      "Feature 2 is a gene\n",
      "Feature 3 is a CDS\n",
      "Feature 4 is a mat_peptide\n",
      "Feature 5 is a mat_peptide\n",
      "Feature 6 is a mat_peptide\n",
      "Feature 7 is a mat_peptide\n",
      "Feature 8 is a mat_peptide\n",
      "Feature 9 is a mat_peptide\n",
      "Feature 10 is a mat_peptide\n",
      "Feature 11 is a mat_peptide\n",
      "Feature 12 is a mat_peptide\n",
      "Feature 13 is a mat_peptide\n",
      "Feature 14 is a mat_peptide\n",
      "Feature 15 is a mat_peptide\n",
      "Feature 16 is a mat_peptide\n",
      "Feature 17 is a mat_peptide\n",
      "Feature 18 is a mat_peptide\n",
      "Feature 19 is a CDS\n",
      "Feature 20 is a mat_peptide\n",
      "Feature 21 is a mat_peptide\n",
      "Feature 22 is a mat_peptide\n",
      "Feature 23 is a mat_peptide\n",
      "Feature 24 is a mat_peptide\n",
      "Feature 25 is a mat_peptide\n",
      "Feature 26 is a mat_peptide\n",
      "Feature 27 is a mat_peptide\n",
      "Feature 28 is a mat_peptide\n",
      "Feature 29 is a mat_peptide\n",
      "Feature 30 is a mat_peptide\n",
      "Feature 31 is a stem_loop\n",
      "Feature 32 is a stem_loop\n",
      "Feature 33 is a gene\n",
      "Feature 34 is a CDS\n",
      "Feature 35 is a gene\n",
      "Feature 36 is a CDS\n",
      "Feature 37 is a gene\n",
      "Feature 38 is a CDS\n",
      "Feature 39 is a gene\n",
      "Feature 40 is a CDS\n",
      "Feature 41 is a gene\n",
      "Feature 42 is a CDS\n",
      "Feature 43 is a gene\n",
      "Feature 44 is a CDS\n",
      "Feature 45 is a gene\n",
      "Feature 46 is a CDS\n",
      "Feature 47 is a gene\n",
      "Feature 48 is a CDS\n",
      "Feature 49 is a gene\n",
      "Feature 50 is a CDS\n",
      "Feature 51 is a gene\n",
      "Feature 52 is a CDS\n",
      "Feature 53 is a stem_loop\n",
      "Feature 54 is a stem_loop\n",
      "Feature 55 is a 3'UTR\n",
      "Feature 56 is a stem_loop\n"
     ]
    }
   ],
   "source": [
    "# iterate over all the features, printing the respective index and their types\n",
    "\n",
    "for i in range(len(covidref.features)):\n",
    "    ftrtype = covidref.features[i].type\n",
    "    print(f\"Feature {i} is a {ftrtype}\")"
   ]
  },
  {
   "cell_type": "markdown",
   "metadata": {},
   "source": [
    "## CLASS TODO\n",
    "\n",
    "1. Read the SeqFeature and FeatureLocation docs\n",
    "2. What are the non-method attributes associated with SeqRecords?\n",
    "3. What are the methods associated with SeqRecords\n",
    "4. What are the attributes of FeatureLocation"
   ]
  },
  {
   "cell_type": "code",
   "execution_count": 52,
   "metadata": {},
   "outputs": [],
   "source": [
    "# get all the gene features\n",
    "genes = [ftr for ftr in covidref.features if ftr.type == \"gene\"]"
   ]
  },
  {
   "cell_type": "code",
   "execution_count": 53,
   "metadata": {},
   "outputs": [
    {
     "data": {
      "text/plain": [
       "11"
      ]
     },
     "execution_count": 53,
     "metadata": {},
     "output_type": "execute_result"
    }
   ],
   "source": [
    "len(genes)"
   ]
  },
  {
   "cell_type": "code",
   "execution_count": 54,
   "metadata": {},
   "outputs": [
    {
     "data": {
      "text/plain": [
       "OrderedDict([('gene', ['ORF1ab']),\n",
       "             ('locus_tag', ['GU280_gp01']),\n",
       "             ('db_xref', ['GeneID:43740578'])])"
      ]
     },
     "execution_count": 54,
     "metadata": {},
     "output_type": "execute_result"
    }
   ],
   "source": [
    "# the qualifiers attribute is a dictionary that contains useful information about the features\n",
    "genes[0].qualifiers "
   ]
  },
  {
   "cell_type": "code",
   "execution_count": 55,
   "metadata": {},
   "outputs": [
    {
     "name": "stdout",
     "output_type": "stream",
     "text": [
      "Gene 0 (ORF1ab) is located at 265...21555\n",
      "\n",
      "Gene 1 (S) is located at 21562...25384\n",
      "\n",
      "Gene 2 (ORF3a) is located at 25392...26220\n",
      "\n",
      "Gene 3 (E) is located at 26244...26472\n",
      "\n",
      "Gene 4 (M) is located at 26522...27191\n",
      "\n",
      "Gene 5 (ORF6) is located at 27201...27387\n",
      "\n",
      "Gene 6 (ORF7a) is located at 27393...27759\n",
      "\n",
      "Gene 7 (ORF7b) is located at 27755...27887\n",
      "\n",
      "Gene 8 (ORF8) is located at 27893...28259\n",
      "\n",
      "Gene 9 (N) is located at 28273...29533\n",
      "\n",
      "Gene 10 (ORF10) is located at 29557...29674\n",
      "\n"
     ]
    }
   ],
   "source": [
    "for i, gene in enumerate(genes):  # lookup the help on the enumerate function\n",
    "    print(f\"Gene {i} ({gene.qualifiers['gene'][0]}) is located at {gene.location.start}...{gene.location.end}\\n\")"
   ]
  },
  {
   "cell_type": "code",
   "execution_count": 56,
   "metadata": {},
   "outputs": [
    {
     "data": {
      "text/plain": [
       "(ExactPosition(265), ExactPosition(21555))"
      ]
     },
     "execution_count": 56,
     "metadata": {},
     "output_type": "execute_result"
    }
   ],
   "source": [
    "gene0 = genes[0]\n",
    "gene0.location.start, gene0.location.end"
   ]
  },
  {
   "cell_type": "code",
   "execution_count": 57,
   "metadata": {},
   "outputs": [
    {
     "data": {
      "text/plain": [
       "SeqRecord(seq=Seq('ATGGAGAGCCTTGTCCCTGGTTTCAACGAGAAAACACACGTCCAACTCAGTTTG...TAA', IUPACAmbiguousDNA()), id='NC_045512.2', name='NC_045512', description='Severe acute respiratory syndrome coronavirus 2 isolate Wuhan-Hu-1, complete genome', dbxrefs=[])"
      ]
     },
     "execution_count": 57,
     "metadata": {},
     "output_type": "execute_result"
    }
   ],
   "source": [
    "# one way to get the sequence corresponding to this gene\n",
    "covidref[gene0.location.start:gene0.location.end]"
   ]
  },
  {
   "cell_type": "code",
   "execution_count": 58,
   "metadata": {},
   "outputs": [
    {
     "data": {
      "text/plain": [
       "SeqRecord(seq=Seq('ATGGAGAGCCTTGTCCCTGGTTTCAACGAGAAAACACACGTCCAACTCAGTTTG...TAA', IUPACAmbiguousDNA()), id='NC_045512.2', name='NC_045512', description='Severe acute respiratory syndrome coronavirus 2 isolate Wuhan-Hu-1, complete genome', dbxrefs=[])"
      ]
     },
     "execution_count": 58,
     "metadata": {},
     "output_type": "execute_result"
    }
   ],
   "source": [
    "# an easier way to do the same thing, using the extract method\n",
    "gene0.extract(covidref)"
   ]
  }
 ],
 "metadata": {
  "kernelspec": {
   "display_name": "Python 3.8.5 64-bit ('bio208': conda)",
   "language": "python",
   "name": "python38564bitbio208conda0bf5d1ad0a654af58f619f590fa5f614"
  },
  "language_info": {
   "codemirror_mode": {
    "name": "ipython",
    "version": 3
   },
   "file_extension": ".py",
   "mimetype": "text/x-python",
   "name": "python",
   "nbconvert_exporter": "python",
   "pygments_lexer": "ipython3",
   "version": "3.8.5"
  }
 },
 "nbformat": 4,
 "nbformat_minor": 4
}

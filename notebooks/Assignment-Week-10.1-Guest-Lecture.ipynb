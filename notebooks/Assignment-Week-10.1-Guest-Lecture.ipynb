{
 "cells": [
  {
   "cell_type": "markdown",
   "metadata": {},
   "source": [
    "# Assignment 10.1\n",
    "**Due:** October 29th at 3:30pm\n",
    "\n",
    "\n",
    "You are a quantitative geneticists studying virulence traits in the pathogenic  opportunistic pathogen, _Cryptococcus deneoformans_. Your collaborator on the project has given you a CSV file with both phenotype and genotype information for progeny from a cross. They have asked you to determine which of the three loci within the dataframe are associated with the variation in resistance to hydrogen peroxide. "
   ]
  },
  {
   "cell_type": "code",
   "execution_count": 1,
   "metadata": {},
   "outputs": [],
   "source": [
    "## Bring in needed modules\n",
    "import pandas as pd, numpy as np, seaborn as sns\n",
    "\n",
    "import statsmodels.formula.api as smf\n",
    "\n",
    "from matplotlib import pyplot as plt\n",
    "%matplotlib inline"
   ]
  },
  {
   "cell_type": "markdown",
   "metadata": {},
   "source": [
    "## Data\n",
    "The data you will need for this assignment is listed on the class git repository under the path:\n",
    "\n",
    "https://github.com/bio208fs-class/bio208fs-lecture/blob/master/data/H2O2_bio208_data.csv"
   ]
  },
  {
   "cell_type": "markdown",
   "metadata": {},
   "source": [
    "The CVS file has five columns:\n",
    "\n",
    "1. Strain --  the name of the progeny or isolate.\n",
    "1. H2O2 -- phenotypic  ordinal scores ranging from 0 to 5, indicating the size of colonies grown on media containing hydrogen peroxide\n",
    "1. SSK1 -- 0 or 1, indicating for each offspring which of the two alleles (XL280a = 0, 431 = 1) that offspring inherited at the SSK1 locus\n",
    "1. SSK2 -- 0 or 1, indicating for each offspring which of the two alleles (XL280a = 0, 431 = 1) that offspring inherited at the SSK2 locus\n",
    "1. RIC8 -- 0 or 1, indicating for each offspring which of the two alleles (XL280a = 0, 431 = 1) that offspring inherited at the RIC8 locus\n",
    "\n",
    "For more details please refer to [Roth et al. 2020](https://www.biorxiv.org/content/10.1101/2020.08.21.259861v1.full)"
   ]
  },
  {
   "cell_type": "markdown",
   "metadata": {},
   "source": [
    "## Linear regression & heritability\n",
    "In lecture, we introduced linear regression as a tool for examining the association between a genotype and phenotype (See slides 12 and 13). For the phenotype and genotype data listed in the file \"H2O2_bio208_data.csv\" file:\n",
    "\n",
    "a) Generate a genotype by phenotype plot (as shown on slides 12 and 13 of Thursdays quest lecture) per gene listed in the file (0.5 point each). \n",
    "\n",
    "b) For each gene, estimate the heritability (R-squared value) and report your hypothesis regarding the potential association between variation in H2O2 tolerance and the gene of interest (0.5 points each). \n"
   ]
  },
  {
   "cell_type": "code",
   "execution_count": null,
   "metadata": {},
   "outputs": [],
   "source": []
  }
 ],
 "metadata": {
  "kernelspec": {
   "display_name": "Python 3",
   "language": "python",
   "name": "python3"
  },
  "language_info": {
   "codemirror_mode": {
    "name": "ipython",
    "version": 3
   },
   "file_extension": ".py",
   "mimetype": "text/x-python",
   "name": "python",
   "nbconvert_exporter": "python",
   "pygments_lexer": "ipython3",
   "version": "3.8.5"
  }
 },
 "nbformat": 4,
 "nbformat_minor": 4
}

{
 "cells": [
  {
   "cell_type": "markdown",
   "metadata": {},
   "source": [
    "# Assignment 10.1\n",
    "**Due:** October 29th at 3:30pm\n",
    "\n",
    "\n",
    "You are a quantitative geneticists studying virulence traits in the pathogenic  opportunistic pathogen, _Cryptococcus deneoformans_. Your collaborator on the project has given you a CSV file with both phenotype and genotype information for progeny from a cross. They have asked you to determine which of the three loci within the dataframe are associated with the variation in resistance to hydrogen peroxide. "
   ]
  },
  {
   "cell_type": "code",
   "execution_count": 1,
   "metadata": {},
   "outputs": [],
   "source": [
    "## Bring in needed moduals\n",
    "import pandas as pd, numpy as np, seaborn as sns\n",
    "\n",
    "import statsmodels.formula.api as smf\n",
    "\n",
    "from matplotlib import pyplot as plt\n",
    "%matplotlib inline"
   ]
  },
  {
   "cell_type": "markdown",
   "metadata": {},
   "source": [
    "## Path to data\n",
    "The data you will need for this assignment is listed on the class GIT under the path:\n",
    "\n",
    "https://github.com/bio208fs-class/bio208fs-lecture/blob/master/data/H2O2_bio208_data.csv"
   ]
  },
  {
   "cell_type": "markdown",
   "metadata": {},
   "source": [
    "## linear regression & heritability\n",
    "In lecture, we introduced linear regression as a tool for examining the association between a genotype and phenotype (See slides 12 and 13). For the phenotype and genotype data listed in the file \"H2O2_bio208_data.csv\", under the _path_ on the class git, generate a genotype by phenotype plot (as shown on slides 12 and 13 of Thursdays quest lecture) per gene listed in the file (0.5 point). Also, for each gene listed in this file, estimate the heritability (r-squared value) and report your hypothesis regarding the potentially association between variation in H2O2 tolerance and the gene (0.5 points). There are allelic states reported for three genes in the H2O2_bio208_data.csv file - _SSK1, SSK2, and RIC8_. The genotypes are scored as zero if inherited from a parental strain named XL280**a** or one if inherited from the strain 431. You will be rewarded points for each gene (Totaling 3 points).  "
   ]
  },
  {
   "cell_type": "markdown",
   "metadata": {},
   "source": [
    "### Notes on the data\n",
    "\n",
    "The data should have five columns, named Strain, H2O2, SSK1, SSK2, and RIC8. The Strain column is the name of the progeny or isolate. The H2O2 column consists of phenotypic  ordinal scores between 0 - 5 for colony growth when grown on media containing hydrogen peroxide. The loci at the genes SSK1, SSK2, and RIC8 are coded as 0 or 1 for allelic states per offspring inherited from the parental strains XL280a or 431 respectively. For more details please refer to [_Roth et al._](https://www.biorxiv.org/content/10.1101/2020.08.21.259861v1.full)"
   ]
  },
  {
   "cell_type": "code",
   "execution_count": null,
   "metadata": {},
   "outputs": [],
   "source": []
  }
 ],
 "metadata": {
  "kernelspec": {
   "display_name": "Python 3",
   "language": "python",
   "name": "python3"
  },
  "language_info": {
   "codemirror_mode": {
    "name": "ipython",
    "version": 3
   },
   "file_extension": ".py",
   "mimetype": "text/x-python",
   "name": "python",
   "nbconvert_exporter": "python",
   "pygments_lexer": "ipython3",
   "version": "3.8.5"
  }
 },
 "nbformat": 4,
 "nbformat_minor": 4
}

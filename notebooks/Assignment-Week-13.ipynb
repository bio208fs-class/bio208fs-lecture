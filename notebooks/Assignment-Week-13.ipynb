{
 "cells": [
  {
   "cell_type": "markdown",
   "metadata": {},
   "source": [
    "## Assignment 13\n",
    "\n",
    "* Due date: 17 Nov 2020 by 3:30pm"
   ]
  },
  {
   "cell_type": "markdown",
   "metadata": {},
   "source": [
    "## Problem 01\n",
    "\n",
    "Orlando et al. 2008 consider a number of alternate Boolean updating functions for their cell-cycle TF network model.\n",
    "\n",
    "\n",
    "1. One of the models that Orlando et al considered was to change the SFF function from AND to OR logic (all other functions were kept the same) [2 pts]\n",
    "\n",
    "  * $SFF = SBF \\lor HCM1$\n",
    "  \n",
    "Re-implement the Orlando et al. model using the change specified above.\n",
    "\n",
    "NOTE: To save time hou can copy the functions you defined in class, as well as those provided to you (e.g. `plot_simulation`, `cell_cycle`, etc)\n",
    "\n",
    "\n",
    "2. With these newly defined function, given the following initial conditions,  do you observe oscillatory behavior? If so, is is the oscillatory behavior the same as that observed when the SFF function used AND logic?  [3 pts]\n",
    "\n",
    "```\n",
    "MBF = [1]\n",
    "SBF = [1]\n",
    "YOX1 = [0]\n",
    "HCM1 = [0]\n",
    "YHP1 = [0]\n",
    "SFF = [0]\n",
    "ACE2 = [0]\n",
    "SWI5 = [0]\n",
    "CLN3 = [0]\n",
    "```\n",
    "\n",
    "3.  Given the OR version of the SFF function, what fraction of initial conditions produce oscillatory dynamics? [5 pts]\n",
    "\n"
   ]
  },
  {
   "cell_type": "code",
   "execution_count": null,
   "metadata": {},
   "outputs": [],
   "source": []
  }
 ],
 "metadata": {
  "kernelspec": {
   "display_name": "Python 3",
   "language": "python",
   "name": "python3"
  },
  "language_info": {
   "codemirror_mode": {
    "name": "ipython",
    "version": 3
   },
   "file_extension": ".py",
   "mimetype": "text/x-python",
   "name": "python",
   "nbconvert_exporter": "python",
   "pygments_lexer": "ipython3",
   "version": "3.8.5"
  }
 },
 "nbformat": 4,
 "nbformat_minor": 4
}

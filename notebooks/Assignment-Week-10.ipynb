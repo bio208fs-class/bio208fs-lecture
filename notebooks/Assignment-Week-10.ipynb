{
 "cells": [
  {
   "cell_type": "markdown",
   "metadata": {},
   "source": [
    "# Week 10 Assignment\n",
    "\n",
    "**Due date**: Tue, Oct 27 by 3:30pm (submit on Sakai)"
   ]
  },
  {
   "cell_type": "markdown",
   "metadata": {},
   "source": [
    "# Building a bioinformatics pipeline, part I"
   ]
  },
  {
   "cell_type": "markdown",
   "metadata": {},
   "source": [
    "The goal of this assignment is to create the basis of a bioinformatics pipeline that can be used to study the variation and evolution of genes/proteins.  The pipeline you will build will accomplish the following steps:\n",
    "\n",
    "1. Read in a CSV delimited spreadsheet containing Genbank accession numbers\n",
    "\n",
    "2. Use Biopython to download to Genbank files corresponding to the accession numbers in step 1\n",
    "\n",
    "3. Extract the protein sequences of the genes represented in each genbank file, saving the results into a single FASTA file\n",
    "\n",
    "4. Align the sequences with the multiple sequence alignment program MUSCLE using the appropriate interface from Biopython"
   ]
  },
  {
   "cell_type": "markdown",
   "metadata": {},
   "source": [
    "## Data set of interest"
   ]
  },
  {
   "cell_type": "markdown",
   "metadata": {},
   "source": [
    "We will use our pipeline to study interspecific variation in betacoronavirus spike proteins, and the protein that the spike proteins recognize and bind to on mammalian cells, called ACE2 (Angiotensin-Converting Enzyme 2). For details on background read the following papers:\n",
    "\n",
    "1. Hu, B., Guo, H., Zhou, P. et al. Characteristics of SARS-CoV-2 and COVID-19. Nat Rev Microbiol (2020). https://doi.org/10.1038/s41579-020-00459-7\n",
    "\n",
    "\n",
    "2. Broad and Differential Animal Angiotensin-Converting Enzyme 2 Receptor Usage by SARS-CoV-2\n",
    "Xuesen Zhao, Danying Chen, Robert Szabla, Mei Zheng, Guoli Li, Pengcheng Du, Shuangli Zheng, Xinglin Li, Chuan Song, Rui Li, Ju-Tao Guo, Murray Junop, Hui Zeng, Hanxin Lin\n",
    "Journal of Virology Aug 2020, 94 (18) e00940-20; https://doi.org/10.1128/JVI.00940-20\n"
   ]
  },
  {
   "cell_type": "markdown",
   "metadata": {},
   "source": [
    "# Problems"
   ]
  },
  {
   "cell_type": "markdown",
   "metadata": {},
   "source": [
    "## 1. Reading list of accessions [5 pts]\n",
    "\n",
    "Write a function to read a CSV formatted file that contains names and accession numbers for sequences of interest.  Each file will have two columns, \"Name\" and \"Accession\", giving the names of the organism that the sequence comes from and the corresponding Genbank accession numbers for each sequence. \n",
    "\n",
    "Your function should return a dictionary, with the names (strings) as the keys and the accession numbers (strings) as the values.\n",
    "\n",
    "The following files give accession list for a set of coronavirus spike proteins and a set of mammalian ACE2 genes:\n",
    "\n",
    "* `ACE2-accessions.csv`\n",
    "* `Spike-accessions.csv` (25 Oct 2020: GD-pangolin accession removed)"
   ]
  },
  {
   "cell_type": "code",
   "execution_count": 1,
   "metadata": {},
   "outputs": [],
   "source": [
    "def read_accessions(csvfile):\n",
    "    \"\"\"CSV file with Name and Accession columns -> dictionary relating names to accessions\"\"\"\n",
    "    pass # replace with your code"
   ]
  },
  {
   "cell_type": "code",
   "execution_count": null,
   "metadata": {},
   "outputs": [],
   "source": [
    "# The following tests should work if your read_accessions function works correctly\n",
    "\n",
    "spikedict = read_accessions(\"Spike-accessions.csv\")\n",
    "assert(spikedict[\"RaTG13\"] == \"MN996532.1\")\n",
    "\n",
    "ace2dict = read_accessions(\"ACE2-accessions.csv\")\n",
    "assert(ace2dict[\"Hog badger\"] == \"MT663962\")\n"
   ]
  },
  {
   "cell_type": "markdown",
   "metadata": {},
   "source": [
    "## 2. Downloading Genbank files [7.5 pts]"
   ]
  },
  {
   "cell_type": "markdown",
   "metadata": {},
   "source": [
    "Biopython includes facilities for automatically downloading Genbank files from the web, using NCBI's Entrez interface, as described in [Chap 5](http://biopython.org/DIST/docs/tutorial/Tutorial.html#sec59) and [Chap 9](http://biopython.org/DIST/docs/tutorial/Tutorial.html#sec%3Aefetch) of the Biopython tutorial.  \n",
    "\n",
    "**IMPORTANT** Before working on this problem make sure to read the [\"Entrez Guidelines\"](http://biopython.org/DIST/docs/tutorial/Tutorial.html#sec%3Aentrez-guidelines) about how to use the Entrez resources responsibly (if you don't do this you risk having your IP address banned from accessing Entrez). In particular make sure your specify your email address for validating Entrez access after importing the Etnrez library.\n",
    "\n",
    "``` \n",
    "from Bio import Entrez\n",
    "Entrez.email = \"A.N.Other@example.com\"  # replace with your Duke email\n",
    "```\n",
    "\n",
    "Write a function that takes as input an accession dictionary (e.g. created by the `read_accessions` function). For each accession the function should use Biopython's Entrez tools to download the accessions of interest as genbank files and then each accession out to your file system, with file names formatted as `accession_number.gb`.  Your function should return a dictionary relating the names in the accession dictionary to the filenames of the genbank files.  For examp\n"
   ]
  },
  {
   "cell_type": "code",
   "execution_count": null,
   "metadata": {},
   "outputs": [],
   "source": [
    "def download_accessions(accessiondict):\n",
    "    \"\"\"Given an accession dict, download each accession as a genbank file and return dict\n",
    "    mapping names to genbank files\"\"\"\n",
    "    pass # replace with your code"
   ]
  },
  {
   "cell_type": "code",
   "execution_count": null,
   "metadata": {},
   "outputs": [],
   "source": [
    "# test your function\n",
    "testdict = {\"Human\":\"NM_001371415.1\"}\n",
    "\n",
    "testfiledict = download_accessions(testdict)\n",
    "assert(testfiledict[\"Human\"] == \"NM_001371415.1.gb\")\n",
    "\n",
    "# Note that your test should also write a file with the name NM_001371415.1.gb in the \n",
    "# directory in your working directory"
   ]
  },
  {
   "cell_type": "markdown",
   "metadata": {},
   "source": [
    "## Helper function to create Genbank files containing ONLY the spike protein\n",
    "\n",
    "ADDED: 25 Oct 2020\n",
    "\n",
    "In the Sunday office hours session, Zach pointed out that the genbank files  for the coronavirus genomes created after completing problem 2, include not only the spike (S) locus but all the genes in the coronavirus genome.  This complicates step 3 below (note that this doesn't apply to the ACE2 accession numbers, because those accessions point directly to the locus of interest).\n",
    "\n",
    "To ease the burden of completing the subsequent problem, below I provide you with a function to create genbank files that include ONLY the spike proteins. You can then pass the output of this function to your `genbank2fasta` functions below."
   ]
  },
  {
   "cell_type": "code",
   "execution_count": 2,
   "metadata": {},
   "outputs": [],
   "source": [
    "def filter_spike_cds(spikeaccessiondict):\n",
    "    newdict = {}\n",
    "    for key,value in spikeaccessiondict.items():\n",
    "        rec = SeqIO.read(value, format=\"gb\")\n",
    "        spikeftr = None\n",
    "        for ftr in rec.features:\n",
    "            if ftr.type == \"CDS\":\n",
    "                if \"gene\" in ftr.qualifiers:\n",
    "                    if \"S\" in ftr.qualifiers[\"gene\"]:\n",
    "                        spikeftr = ftr\n",
    "                        break\n",
    "                elif \"product\" in ftr.qualifiers:\n",
    "                    for descriptor in ftr.qualifiers[\"product\"]:\n",
    "                        if \"spike\" in descriptor:\n",
    "                            spikeftr = ftr\n",
    "                            break\n",
    "        if spikeftr is not None:\n",
    "            newrec = SeqRecord.SeqRecord(rec.seq, id=rec.id,name=rec.name,\n",
    "                                         description=rec.description, features=[spikeftr],\n",
    "                                         annotations=rec.annotations)\n",
    "            fname = rec.id + \"-spikeonly.gb\"\n",
    "            SeqIO.write(newrec, fname, format=\"gb\")\n",
    "            newdict[key] = fname\n",
    "    return newdict\n",
    "    "
   ]
  },
  {
   "cell_type": "code",
   "execution_count": null,
   "metadata": {},
   "outputs": [],
   "source": [
    "spikeonlydict = filter_spike_cds(spikefiledict)  \n",
    "# use spikeonlydict as an argument to your `genbank2fasta` files below"
   ]
  },
  {
   "cell_type": "markdown",
   "metadata": {},
   "source": [
    "## 3. Creating FASTA files [7.5 pts]"
   ]
  },
  {
   "cell_type": "markdown",
   "metadata": {},
   "source": [
    "Your next two function will take the dictionary returned from the `download_accessions` function and then read each file, extracting either the nucleotide sequence or the  translations of the primary coding sequences (CDS) in each file, and will then write out a *single* FASTA file (`fastaname`) with the protein sequences for all the sequences of interest. After parsing the genbank files and writing the corresponding FASTA file, your functions should return the filename of the FASTA file it created.\n",
    "\n",
    "After calling these functions you should have 2 files for each gene of interest (Spike, ACE2) -- one containing the nucleotide sequences for the gene, the other containing the protein sequences.  Each file should have as many records as there were accessions for that gene.  For example, there are 7 coronavirus accessions so your Spike fasta files will have the spike sequences from those 7 different coronaviruses.  For ACE2, there are 15 accessions (15 different mammal species), so your ACE2 files will have 15 sequences each.\n"
   ]
  },
  {
   "cell_type": "code",
   "execution_count": null,
   "metadata": {},
   "outputs": [],
   "source": [
    "def genbank2fasta_nucleotide(accessionfiledict, fastaname):\n",
    "    \"\"\"Accession file dict -> FASTA file of nucleotide sequences\"\"\"\n",
    "    pass # replace with your code"
   ]
  },
  {
   "cell_type": "code",
   "execution_count": null,
   "metadata": {},
   "outputs": [],
   "source": [
    "def genbank2fasta_protein(accessionfiledict, fastaname):\n",
    "    \"\"\"Accession file dict -> FASTA file of amino acid sequences\"\"\"\n",
    "    pass # replace with your code    "
   ]
  },
  {
   "cell_type": "markdown",
   "metadata": {},
   "source": [
    "## 4. Aligning protein sequences using MUSCLE [5 pts]\n",
    "\n",
    "[MUSCLE](http://www.drive5.com/muscle/) is a popular multiple sequence alignment program.  You can download a command line version of MUSCLE at that link, and \"install\" it by unzipping the binary and placing it somewhere in your path (I will show you how to do this in class).\n",
    "\n",
    "Once MUSCLE is on your computer you should test MUSCLE \"by hand\" (we'll do this in class).  Biopython also provides an interface to interact with MUSCLE from within a Python pipeline, as described in [Section 6.5](http://biopython.org/DIST/docs/tutorial/Tutorial.html#sec92) of the Biopython tutorial.\n",
    "\n",
    "Using the `MuscleCommandLine` interface that Biopython provides, write a function that aligns the amino acid sequences in a FASTA file:"
   ]
  },
  {
   "cell_type": "code",
   "execution_count": null,
   "metadata": {},
   "outputs": [],
   "source": [
    "def align_via_MUSCLE(infastafile, outfastafile):\n",
    "    pass # replace with your code\n",
    "    "
   ]
  },
  {
   "cell_type": "markdown",
   "metadata": {},
   "source": [
    "## 6. Test the entire pipeline [5 pts]\n",
    "\n",
    "If each of your functions above works, then the following small code block implements the entire pipeline from start to finish:"
   ]
  },
  {
   "cell_type": "code",
   "execution_count": null,
   "metadata": {},
   "outputs": [],
   "source": [
    "spikedict = read_accessions(\"Spike-accessions.csv\")\n",
    "spikefiledict = download_accessions(spikedict)\n",
    "\n",
    "# this only applies to the spike accessions (see note above)\n",
    "spikeonlydict = filter_spike_cds(spikefiledict)  \n",
    "\n",
    "spikenucfasta = genbank2fasta_nucleotide(spikeonlydict, \"Spike-nucs.fasta\")\n",
    "spikeprotfasta = genbank2fasta_protein(spikeonlydict, \"Spike-prot.fasta\")\n",
    "align_via_MUSCLE(spikeprotfasta, \"Spike-prot-aligned.fasta\")"
   ]
  },
  {
   "cell_type": "code",
   "execution_count": 2,
   "metadata": {},
   "outputs": [],
   "source": [
    "## Write the corresponding codeblock for the ACE2 sequences"
   ]
  },
  {
   "cell_type": "code",
   "execution_count": null,
   "metadata": {},
   "outputs": [],
   "source": []
  }
 ],
 "metadata": {
  "kernelspec": {
   "display_name": "Python 3",
   "language": "python",
   "name": "python3"
  },
  "language_info": {
   "codemirror_mode": {
    "name": "ipython",
    "version": 3
   },
   "file_extension": ".py",
   "mimetype": "text/x-python",
   "name": "python",
   "nbconvert_exporter": "python",
   "pygments_lexer": "ipython3",
   "version": "3.8.5"
  }
 },
 "nbformat": 4,
 "nbformat_minor": 4
}

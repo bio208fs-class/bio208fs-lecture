{
 "cells": [
  {
   "cell_type": "markdown",
   "metadata": {},
   "source": [
    "# Week 04 Assignments\n",
    "\n",
    "**Due date**: Tue, September 15 by 3:30pm (submit on Sakai)"
   ]
  },
  {
   "cell_type": "markdown",
   "metadata": {},
   "source": [
    "## Data\n",
    "\n",
    "The assignment uses the following files:\n",
    "\n",
    "* [`saccharomyces_cerevisiae.gff`](https://github.com/bio208fs-class/bio208fs-lecture/raw/master/data/saccharomyces_cerevisiae.gff)"
   ]
  },
  {
   "cell_type": "markdown",
   "metadata": {},
   "source": [
    "# GFF formatted genomic feature files\n",
    "\n",
    "Generic Feature Format (GFF) is a widely used format for presenting genomic features.  NCBI and most model organism genome databases provide GFF files.\n",
    "\n",
    "At their heart GFF files are are tab-delimited tables with nine columns (fields) of information. A short summary of what these columns provide is provided below. For a full description of the GFF format see the [GFF3 Specification](https://github.com/The-Sequence-Ontology/Specifications/blob/master/gff3.md).  The textual description given below are minor modifications of those provided in the GFF3 spec.\n",
    "\n",
    "1. \"seqid\" -- the ID of the landmark used to establish the coordinate system for the current feature. Often this refers to the chromosome on which the feature is found, e.g. \"1\" or \"chrI\", but sometimes it refers to something else like an accession number. \n",
    "\n",
    "\n",
    "2. \"source\" -- typically this is the name of a database (e.g. \"Genbank\", \"SGD\") or software tool that generated the feature information.\n",
    "\n",
    "3. \"type\" - the type of the feature, such as \"gene\", \"intron\", \"CDS\" (coding sequence), etc.\n",
    "\n",
    "4. \"start\" -- The start coordinates of the feature given in positive 1-based integer coordinates, relative to the landmark given in column one.\n",
    "\n",
    "5. \"end\" -- The end coordinates of the feature given in positive 1-based integer coordinates, relative to the landmark given in column one. Note that start is always less than or equal to end. \n",
    "\n",
    "6. \"score\" - the score of the feature, a floating point number. The semantics of the score are ill-defined but are often used to indicate aspects of the quality or certainty of the feature prediction.\n",
    "\n",
    "7. \"strand\" -- the strand of the feature. `+` for positive strand (relative to the landmark), `-` for minus strand, and `.` for features that are not stranded. In addition, `?` can be used for features whose strandedness is relevant, but unknown.  For examples, genes that are sense with respect to the DNA sequence of the landmark (seqid) given in column one will be `+`, while genes that are sense with respect to the complementary strand would be `-` for this oclumn.\n",
    "\n",
    "8. \"phase\" -- for features of type \"CDS\", the phase indicates where the next codon begins relative to the 5' end (where the 5' end of the CDS is relative to the strand of the CDS feature) of the current CDS feature. \n",
    "\n",
    "9. \"attributes\" -- A list of feature attributes in the format tag=value. Multiple tag=value pairs are separated by semicolons. URL escaping rules are used for tabs (and often spaces) and the characters: \",=;\". \n",
    "\n"
   ]
  },
  {
   "cell_type": "markdown",
   "metadata": {},
   "source": [
    "## Assignment 01\n",
    "\n",
    "a) Since GFF file are simple tab delimited files, we can use Pandas functions like `read_csv` or `read_table` to create a DataFrame from a GFF file.  However, there are a few minor complications we need to deal with:\n",
    "\n",
    "1. GFF files sometimes include lines with additional non-tabular information.  These lines begin with the `#` character.  When reading the file we need to tell the `read_csv` or `read_table` function to ignore such lines.\n",
    "\n",
    "2. There is no \"header\" row in a GFF file, specifying what the names of the  columns are, so we need to specify the names when we call `read_csv` or `read_table`.\n",
    "\n",
    "Dealing with both (1) and (2) above can be accomplished by specifying additional arguments that are passed to `read_csv`."
   ]
  },
  {
   "cell_type": "markdown",
   "metadata": {},
   "source": [
    "Using the [Pandas documentation on `read_csv`](https://pandas.pydata.org/pandas-docs/stable/reference/api/pandas.read_csv.html#pandas.read_csv) as a guide, figure out how to read the `saccharomyces_cerevisiae.gff` file into a DataFrame.  The resulting DataFrame should have 9 columns with the names `[\"Seqid\", \"Source\", \"Type\", \"Start\", \"End\", \"Score\", \"Strand\", \"Phase\", \"Attributes\"]` (4 pts). \n",
    "\n",
    "NOTE: If you are unable to successfully complete problem 1a I have provided a CSV file with the equivalent information at this link: [`scer_gff_as_csv.csv`](https://github.com/bio208fs-class/bio208fs-lecture/raw/master/data/scer_gff_as_csv.csv) that will allow you to work on the other problems below.  However, you get credit for 1a if you need to use that file.\n"
   ]
  },
  {
   "cell_type": "code",
   "execution_count": 1,
   "metadata": {},
   "outputs": [],
   "source": [
    "## your code "
   ]
  },
  {
   "cell_type": "markdown",
   "metadata": {},
   "source": [
    "b) How many features are in the `saccharomyces_cerevisiae.gff` file? (1 pt)"
   ]
  },
  {
   "cell_type": "code",
   "execution_count": 2,
   "metadata": {},
   "outputs": [],
   "source": [
    "## your code "
   ]
  },
  {
   "cell_type": "markdown",
   "metadata": {},
   "source": [
    "c) What features types are in the file? (1 pt)"
   ]
  },
  {
   "cell_type": "code",
   "execution_count": 3,
   "metadata": {},
   "outputs": [],
   "source": [
    "## your code "
   ]
  },
  {
   "cell_type": "markdown",
   "metadata": {},
   "source": [
    "d) Create a new column in your dataframe, called `Length` by calculating the difference between the `End` and `Start` coordinates for each feature. (1 pt)"
   ]
  },
  {
   "cell_type": "code",
   "execution_count": 4,
   "metadata": {},
   "outputs": [],
   "source": [
    "## your code "
   ]
  },
  {
   "cell_type": "markdown",
   "metadata": {},
   "source": [
    "e) The \"Seqid\" field gives the chromosome that each featur is found on.  The chromosome names in this file have a roman numeral format -- e.g. \"chrI\" = chromosome 01, \"chrII\" = chromosome 2, etc.  Create a dictionary that maps each roman numeral name to a corresponding integer value (give the mitochondrial genome the value 17) and then use this dictionary with the Pandas `replace` method to replace all the corresponding values in teh \"Seqid\" column. See the [`replace` docs](https://pandas.pydata.org/pandas-docs/stable/reference/api/pandas.DataFrame.replace.html) for details and examples.  (4 pts)"
   ]
  },
  {
   "cell_type": "code",
   "execution_count": 5,
   "metadata": {},
   "outputs": [],
   "source": [
    "## your code "
   ]
  },
  {
   "cell_type": "markdown",
   "metadata": {},
   "source": [
    "f) Show how to create a DataFrame that only contains the nuclear chromosome features. How many  chromosomes are there? (2 pts)"
   ]
  },
  {
   "cell_type": "code",
   "execution_count": 6,
   "metadata": {},
   "outputs": [],
   "source": [
    "## your code "
   ]
  },
  {
   "cell_type": "markdown",
   "metadata": {},
   "source": [
    "g) What is the total genome size, excluding the mitochondrial genome? (1 pt)"
   ]
  },
  {
   "cell_type": "code",
   "execution_count": 7,
   "metadata": {},
   "outputs": [],
   "source": [
    "## your code "
   ]
  },
  {
   "cell_type": "markdown",
   "metadata": {},
   "source": [
    "h) Which is the longest nuclear chromosome? Which is the shortest nuclear chromosome? (1 pt)"
   ]
  },
  {
   "cell_type": "code",
   "execution_count": 8,
   "metadata": {},
   "outputs": [],
   "source": [
    "## your code "
   ]
  },
  {
   "cell_type": "markdown",
   "metadata": {},
   "source": [
    "i) In yeast, genomic features called \"Autonomously Replicating Sequences\" (ARS) serve as origins of replication (i.e. the sites where DNA replication begins).  How many ARS elements in total are there in the yeast reference genome? (1 pt)"
   ]
  },
  {
   "cell_type": "code",
   "execution_count": 9,
   "metadata": {},
   "outputs": [],
   "source": [
    "## your code "
   ]
  },
  {
   "cell_type": "markdown",
   "metadata": {},
   "source": [
    "j) How many ARS features are there on each chromosome? (1 pt)"
   ]
  },
  {
   "cell_type": "code",
   "execution_count": 10,
   "metadata": {},
   "outputs": [],
   "source": [
    "## your code "
   ]
  },
  {
   "cell_type": "markdown",
   "metadata": {},
   "source": [
    "k) Create a DataFrame that only contains ARS features. (1 pt)"
   ]
  },
  {
   "cell_type": "code",
   "execution_count": 11,
   "metadata": {},
   "outputs": [],
   "source": [
    "## your code"
   ]
  },
  {
   "cell_type": "markdown",
   "metadata": {},
   "source": [
    "l) Draw a scatter plot with chromosome length on the x-axis and the number of ARS feature per chromosome on the y-axis. Make sure to give your figure appropriate axis labels (3 pts)"
   ]
  },
  {
   "cell_type": "code",
   "execution_count": 12,
   "metadata": {},
   "outputs": [],
   "source": [
    "## your code"
   ]
  },
  {
   "cell_type": "markdown",
   "metadata": {},
   "source": [
    "m) Using matplotlib, create a figure that shows each of the yeast nuclear chromosomes as bars, with the start location of each ARS feature on each chromosom indicated with a triangular marker. Your figure should like similar to the image shown [at this link](https://github.com/bio208fs-class/bio208fs-lecture/blob/master/images/ARS-example-figure.png). (5 pts)"
   ]
  },
  {
   "cell_type": "code",
   "execution_count": 13,
   "metadata": {},
   "outputs": [],
   "source": [
    "## your code"
   ]
  },
  {
   "cell_type": "code",
   "execution_count": null,
   "metadata": {},
   "outputs": [],
   "source": []
  }
 ],
 "metadata": {
  "kernelspec": {
   "display_name": "Python 3",
   "language": "python",
   "name": "python3"
  },
  "language_info": {
   "codemirror_mode": {
    "name": "ipython",
    "version": 3
   },
   "file_extension": ".py",
   "mimetype": "text/x-python",
   "name": "python",
   "nbconvert_exporter": "python",
   "pygments_lexer": "ipython3",
   "version": "3.7.7"
  }
 },
 "nbformat": 4,
 "nbformat_minor": 4
}

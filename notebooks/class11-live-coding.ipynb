{
 "cells": [
  {
   "cell_type": "markdown",
   "metadata": {},
   "source": [
    "# Simulating genetic mutations"
   ]
  },
  {
   "cell_type": "markdown",
   "metadata": {},
   "source": [
    "## Problem 01\n",
    "\n",
    "### Background\n",
    "The built-in library `random` (see [documentation](https://docs.python.org/3/library/random.html)) contains a variety of functions for tasks such as generating random numbers, generating random draws from lists, etc.\n"
   ]
  },
  {
   "cell_type": "code",
   "execution_count": 6,
   "metadata": {},
   "outputs": [],
   "source": [
    "import random"
   ]
  },
  {
   "cell_type": "markdown",
   "metadata": {},
   "source": [
    "One of the simplest functions in the `random` library is itself called `random` (i.e.  `random.random()`).  The `random` function returns a random floating point value in the range [0,1) (i.e. from 0 up to but not including 1). Every time we call the `random` function we get a different value in this range (all values are equally likely, thus we refer to the probabilities as being \"uniform\")."
   ]
  },
  {
   "cell_type": "code",
   "execution_count": 26,
   "metadata": {},
   "outputs": [
    {
     "data": {
      "text/plain": [
       "0.6321641266498887"
      ]
     },
     "execution_count": 26,
     "metadata": {},
     "output_type": "execute_result"
    }
   ],
   "source": [
    "random.random() # you get a different number everytime you call it"
   ]
  },
  {
   "cell_type": "code",
   "execution_count": 27,
   "metadata": {},
   "outputs": [
    {
     "data": {
      "text/plain": [
       "0.18305615103818884"
      ]
     },
     "execution_count": 27,
     "metadata": {},
     "output_type": "execute_result"
    }
   ],
   "source": [
    "random.random()"
   ]
  },
  {
   "cell_type": "markdown",
   "metadata": {},
   "source": [
    "Random number generators are useful for simulating stochastic events off all sorts.  For example, if we wanted to simulate flips of a fair coin we could write a function like so that uses `random.random`:"
   ]
  },
  {
   "cell_type": "code",
   "execution_count": 28,
   "metadata": {},
   "outputs": [],
   "source": [
    "def flip_coin():\n",
    "    if random.random() < 0.5:\n",
    "        return \"heads\"\n",
    "    else:\n",
    "        return \"tails\""
   ]
  },
  {
   "cell_type": "code",
   "execution_count": 30,
   "metadata": {},
   "outputs": [
    {
     "data": {
      "text/plain": [
       "'heads'"
      ]
     },
     "execution_count": 30,
     "metadata": {},
     "output_type": "execute_result"
    }
   ],
   "source": [
    "flip_coin()  # re-evaluate this cell multiple times"
   ]
  },
  {
   "cell_type": "markdown",
   "metadata": {},
   "source": [
    "To simulate multiple coin flips we could call this function in a for-loop or list comprehension:"
   ]
  },
  {
   "cell_type": "code",
   "execution_count": 31,
   "metadata": {},
   "outputs": [
    {
     "data": {
      "text/plain": [
       "['heads',\n",
       " 'tails',\n",
       " 'heads',\n",
       " 'tails',\n",
       " 'heads',\n",
       " 'tails',\n",
       " 'heads',\n",
       " 'tails',\n",
       " 'tails',\n",
       " 'heads']"
      ]
     },
     "execution_count": 31,
     "metadata": {},
     "output_type": "execute_result"
    }
   ],
   "source": [
    "[flip_coin() for i in range(10)] # simulate 10 coin flips"
   ]
  },
  {
   "cell_type": "markdown",
   "metadata": {},
   "source": [
    "For such a simple simulation you might skip writing the function and let True/False values indicate heads and tails:"
   ]
  },
  {
   "cell_type": "code",
   "execution_count": 32,
   "metadata": {},
   "outputs": [
    {
     "data": {
      "text/plain": [
       "[False, True, False, False, True, False, False, False, True, False]"
      ]
     },
     "execution_count": 32,
     "metadata": {},
     "output_type": "execute_result"
    }
   ],
   "source": [
    "[random.random() < 0.5 for i in range(10)]  # True = heads, False = tails"
   ]
  },
  {
   "cell_type": "markdown",
   "metadata": {},
   "source": [
    "If you wanted to keep track of **which** coin flips produced heads you might rewrite the list comprehension like so:"
   ]
  },
  {
   "cell_type": "code",
   "execution_count": 33,
   "metadata": {},
   "outputs": [
    {
     "data": {
      "text/plain": [
       "[3, 4, 5, 6, 7, 8]"
      ]
     },
     "execution_count": 33,
     "metadata": {},
     "output_type": "execute_result"
    }
   ],
   "source": [
    "[i for i in range(10) if random.random() < 0.5]  # track which coin flips yielded heads"
   ]
  },
  {
   "cell_type": "markdown",
   "metadata": {},
   "source": [
    "### QUESTION 1a (3 pts)\n",
    "\n",
    "How can we use `random.random` to simulate the **number of mutations**  occuring randomly across a single genome during a single round of replication?  For purposes of implementation, assume the genome size is 30,000 bp and the mutation rate is $10^{-6}$ (i.e. similar to the estimates for COVID-19)."
   ]
  },
  {
   "cell_type": "code",
   "execution_count": null,
   "metadata": {},
   "outputs": [],
   "source": [
    "## your code here"
   ]
  },
  {
   "cell_type": "markdown",
   "metadata": {},
   "source": [
    "## Problem 02\n",
    "\n",
    "### Background\n",
    "\n",
    "The NumPy library also includes a sub-module called random (`numpy.random`) that includes a function called `random` (i.e. `numpy.random.random`).  The chief difference between `random.random` and `numpy.random.random` is we can specify a size argument to the numpy version, which allows us to generate arrays of random numbers rather than just a single random number."
   ]
  },
  {
   "cell_type": "code",
   "execution_count": 9,
   "metadata": {},
   "outputs": [],
   "source": [
    "import numpy as np"
   ]
  },
  {
   "cell_type": "code",
   "execution_count": 12,
   "metadata": {},
   "outputs": [
    {
     "data": {
      "text/plain": [
       "array([0.11629594, 0.78319953, 0.87254327, 0.02859915, 0.07399057,\n",
       "       0.22569185, 0.69805909, 0.32223983, 0.40580199, 0.79310016])"
      ]
     },
     "execution_count": 12,
     "metadata": {},
     "output_type": "execute_result"
    }
   ],
   "source": [
    "np.random.random(size=10) # generate 10 random numbers in range [0,1)"
   ]
  },
  {
   "cell_type": "markdown",
   "metadata": {},
   "source": [
    "Similar to what we did above with list comprehensions, we can simulate multiple coin flips using `numpy.random.random` like so:"
   ]
  },
  {
   "cell_type": "code",
   "execution_count": 35,
   "metadata": {},
   "outputs": [
    {
     "data": {
      "text/plain": [
       "array([ True,  True, False,  True, False, False,  True, False, False,\n",
       "        True])"
      ]
     },
     "execution_count": 35,
     "metadata": {},
     "output_type": "execute_result"
    }
   ],
   "source": [
    "np.random.random(size=10) < 0.5"
   ]
  },
  {
   "cell_type": "markdown",
   "metadata": {},
   "source": [
    "If we wanted to figure out which coin flips gave heads (i.e. True) we need to get the indices of the True values in such an array. To do so we can use the function `numpy.argwhere` ([docs](https://numpy.org/doc/stable/reference/generated/numpy.argwhere.html)) which returns the  indices of array elements that are non-zero  (in a Boolean array `True` is considered non-zero, `False` is zero)."
   ]
  },
  {
   "cell_type": "code",
   "execution_count": 73,
   "metadata": {},
   "outputs": [
    {
     "data": {
      "text/plain": [
       "array([[1],\n",
       "       [2],\n",
       "       [4],\n",
       "       [5],\n",
       "       [7],\n",
       "       [9]])"
      ]
     },
     "execution_count": 73,
     "metadata": {},
     "output_type": "execute_result"
    }
   ],
   "source": [
    "heads_or_tails = np.random.random(size=10) < 0.5\n",
    "np.argwhere(heads_or_tails)"
   ]
  },
  {
   "cell_type": "markdown",
   "metadata": {},
   "source": [
    "`numpy.argwhere` groups the indices by element (this turns out to be convenient for multi-dimensional arrays which we'll see below), returning a \"column\" array as shown above. For our purposes it will be convenient to \"flatten\" the array into a single row like so:"
   ]
  },
  {
   "cell_type": "code",
   "execution_count": 74,
   "metadata": {},
   "outputs": [
    {
     "data": {
      "text/plain": [
       "array([1, 2, 4, 5, 7, 9])"
      ]
     },
     "execution_count": 74,
     "metadata": {},
     "output_type": "execute_result"
    }
   ],
   "source": [
    "np.argwhere(heads_or_tails).flatten()  # these are the indices of the values \n",
    "                                       # that are True"
   ]
  },
  {
   "cell_type": "markdown",
   "metadata": {},
   "source": [
    "If we wanted to get the number of heads (i.e. True) values in the `heads_or_tails` array, we can do so using the `sum` method:"
   ]
  },
  {
   "cell_type": "code",
   "execution_count": 76,
   "metadata": {},
   "outputs": [
    {
     "data": {
      "text/plain": [
       "6"
      ]
     },
     "execution_count": 76,
     "metadata": {},
     "output_type": "execute_result"
    }
   ],
   "source": [
    "# When summing a boolean array, True = 1, False = 0\n",
    "heads_or_tails.sum() "
   ]
  },
  {
   "cell_type": "markdown",
   "metadata": {},
   "source": [
    "### Question 2a (3 pts)\n",
    "\n",
    "How can we use `numpy.random.random` to simulate the **number of mutations**  occuring randomly across a single genome during a single round of replication?  Again, assume the genome size is 30,000 bp and the mutation rate is $10^{-6}$ (i.e. similar to the estimates for COVID-19)."
   ]
  },
  {
   "cell_type": "code",
   "execution_count": 58,
   "metadata": {},
   "outputs": [],
   "source": [
    "## your code here"
   ]
  },
  {
   "cell_type": "markdown",
   "metadata": {},
   "source": [
    "## Problem 03\n",
    "\n",
    "### Background\n",
    "\n",
    "The size argument to the `numpy.random.random` function can be multidimensonal. This is useful if we want to generate multiple vectors of random numbers simultaneously.  For example, if we wanted to simulate 5 people, each flipping a coin 10 times we could do so like this:"
   ]
  },
  {
   "cell_type": "code",
   "execution_count": 67,
   "metadata": {},
   "outputs": [
    {
     "data": {
      "text/plain": [
       "array([[False,  True,  True, False, False,  True, False, False,  True,\n",
       "        False],\n",
       "       [ True,  True,  True,  True,  True, False, False,  True,  True,\n",
       "        False],\n",
       "       [ True,  True, False, False,  True, False, False, False, False,\n",
       "        False],\n",
       "       [ True,  True,  True,  True,  True, False,  True,  True, False,\n",
       "        False],\n",
       "       [ True, False,  True,  True,  True, False,  True, False,  True,\n",
       "        False]])"
      ]
     },
     "execution_count": 67,
     "metadata": {},
     "output_type": "execute_result"
    }
   ],
   "source": [
    "multi_heads_or_tails = np.random.random(size=(5, 10)) < 0.5  # each row in this 2D array will be a \"person\"\n",
    "multi_heads_or_tails"
   ]
  },
  {
   "cell_type": "markdown",
   "metadata": {},
   "source": [
    "To get the outcome for a single person, we can index this array by rows:"
   ]
  },
  {
   "cell_type": "code",
   "execution_count": 68,
   "metadata": {},
   "outputs": [
    {
     "data": {
      "text/plain": [
       "array([False,  True,  True, False, False,  True, False, False,  True,\n",
       "       False])"
      ]
     },
     "execution_count": 68,
     "metadata": {},
     "output_type": "execute_result"
    }
   ],
   "source": [
    "multi_heads_or_tails[0]  # first person's coin flips"
   ]
  },
  {
   "cell_type": "markdown",
   "metadata": {},
   "source": [
    "If we wanted to get the list of flips that were heads for each person we could do something like this:"
   ]
  },
  {
   "cell_type": "code",
   "execution_count": 72,
   "metadata": {},
   "outputs": [
    {
     "data": {
      "text/plain": [
       "[array([1, 2, 5, 8]),\n",
       " array([0, 1, 2, 3, 4, 7, 8]),\n",
       " array([0, 1, 4]),\n",
       " array([0, 1, 2, 3, 4, 6, 7]),\n",
       " array([0, 2, 3, 4, 6, 8])]"
      ]
     },
     "execution_count": 72,
     "metadata": {},
     "output_type": "execute_result"
    }
   ],
   "source": [
    "head_flips = []\n",
    "for row in multi_heads_or_tails:\n",
    "    heads = np.argwhere(row).flatten()\n",
    "    head_flips.append(heads)\n",
    "    \n",
    "head_flips"
   ]
  },
  {
   "cell_type": "markdown",
   "metadata": {},
   "source": [
    "If instead of the indices where each person got heads, we wanted the number of heads each person got, we could again use the `sum` method, but since we're dealing with a multidimensional array we need to specify the dimension we want to sum across:"
   ]
  },
  {
   "cell_type": "code",
   "execution_count": 79,
   "metadata": {},
   "outputs": [
    {
     "data": {
      "text/plain": [
       "array([4, 7, 3, 7, 6])"
      ]
     },
     "execution_count": 79,
     "metadata": {},
     "output_type": "execute_result"
    }
   ],
   "source": [
    "multi_heads_or_tails.sum(axis=1)  # axis=1 means sum across columns (i.e. within rows)\n",
    "                                  # axis=0 would mean sum across rows (i.e. within columns)"
   ]
  },
  {
   "cell_type": "markdown",
   "metadata": {},
   "source": [
    "If instead of the number of heads per person, we wanted the number of heads total (across all people), we could use `sum` without an axis argument:"
   ]
  },
  {
   "cell_type": "code",
   "execution_count": 87,
   "metadata": {},
   "outputs": [
    {
     "data": {
      "text/plain": [
       "27"
      ]
     },
     "execution_count": 87,
     "metadata": {},
     "output_type": "execute_result"
    }
   ],
   "source": [
    "total_heads = multi_heads_or_tails.sum()  # sum across all elements of array\n",
    "total_heads"
   ]
  },
  {
   "cell_type": "markdown",
   "metadata": {},
   "source": [
    "### Question 3a (5 pts)\n",
    "\n",
    "How can we use the multi-dimensional form of `numpy.random.random` to simulate the **total number of mutations** that occur in 1000 replications of a 30,000 base pair genome with a mutation rate of $10^{-6}$?"
   ]
  },
  {
   "cell_type": "code",
   "execution_count": 180,
   "metadata": {},
   "outputs": [],
   "source": [
    "## your code here"
   ]
  },
  {
   "cell_type": "markdown",
   "metadata": {},
   "source": [
    "## Question 3b (5 pts)\n",
    "\n",
    "Based on your answer to the previous question, write a function that simulates genome replications with a given mutation rate, and returns the total number of mutations observed.  I've provided a function signature to get you started:\n"
   ]
  },
  {
   "cell_type": "code",
   "execution_count": 181,
   "metadata": {},
   "outputs": [],
   "source": [
    "def genome_mutations(genomesize, mutationrate, nreps):\n",
    "    pass  # replace with your code\n",
    "    # return total_mutations"
   ]
  },
  {
   "cell_type": "markdown",
   "metadata": {},
   "source": [
    "## Question 3c (5 pts)\n",
    "\n",
    "Run your `genome_mutations` function 500 times, keeping the result (i.e. total # of mutations) for each run.  Create a histogram of the total number of mutations observed across your 500 simulations."
   ]
  },
  {
   "cell_type": "markdown",
   "metadata": {},
   "source": [
    "## A more sophisticated simulation"
   ]
  },
  {
   "cell_type": "markdown",
   "metadata": {},
   "source": [
    "Simulating 1000 genome replications as we did above doesn't take into account one very important aspect of real biological populations that is important for thinking about genome evolution -- the genomes in an expanding population are related to each other by lineages.  \n",
    "\n",
    "Creating a simulation that tracks lineages requires more advanced techniques, so rather than asking you to solve this problem yourself I'll provide a simple implementation that accomplishes this. I've heavily annotated my implementation with explanatory comments."
   ]
  },
  {
   "cell_type": "code",
   "execution_count": 94,
   "metadata": {},
   "outputs": [],
   "source": [
    "# We want to track the different genomic variants that arise over time\n",
    "# To do this compactly, we'll create objects to represent these genome variants.\n",
    "#\n",
    "# These objects will have 4 attributes:\n",
    "# 1. name -- an integer value\n",
    "# 2. parent -- which prior variant they arose from\n",
    "# 3. generation -- the generation of the simulation in which the variant arose\n",
    "# 4. mutated_sites -- the set of sites with mutations (relative to the founder invidivual)\n",
    "#\n",
    "# A very simple way to represent an object with attributes is using a \"Named Tuple\"\n",
    "# The function for creating named tuples is in the collections modules (one of the standard python modules).\n",
    "# The code below illustrates how to created a class for generating a named tuple called \"Variant\" with\n",
    "# the attributes we described above.\n",
    "\n",
    "\n",
    "from collections import namedtuple\n",
    "Variant = namedtuple(\"Variant\", [\"name\", \"parent\", \"generation\", \"mutated_sites\"])"
   ]
  },
  {
   "cell_type": "code",
   "execution_count": 150,
   "metadata": {},
   "outputs": [],
   "source": [
    "# Now we setup the key data structures and parameters for our simulation\n",
    "\n",
    "ngens = 10             # number of replicative generations to simulate\n",
    "genomesize = 30000     # size of genome\n",
    "mutation_rate = 1e-6   # per nucleotide mutation rate\n",
    "\n",
    "# initially we have just one genome variant -- the \"founder\"\n",
    "founder = Variant(name=0, parent=None, generation=0, mutated_sites=[])\n",
    "\n",
    "# we're going to keep track of the different variants that arise using a dictionary\n",
    "# keyed by the variant names\n",
    "variants = {0:founder}\n",
    "\n",
    "# popn will track the actual genomes in the population, each entry is an integer\n",
    "# corresponding to the name of one of the genome variants.  Initially we have just\n",
    "# the founder genome\n",
    "popn = [0]\n",
    "\n",
    "for i in range(ngens):\n",
    "    # a temporary list to hold the new genomes that are generated in a single round of replication\n",
    "    daughters = []   \n",
    "    \n",
    "    # we'll refer to the genomes already in the population as \"mothers\" because each\n",
    "    # existing genome will give rise to one new (daughter) genome\n",
    "    for mother in popn: \n",
    "        \n",
    "        # generate True/False values for every site in the genome, where True indicates a mutation occured\n",
    "        daughter_genome = np.random.random(size=genomesize) < mutation_rate\n",
    "        \n",
    "        # get the indices of any sites where mutations occurred\n",
    "        daughter_mutations = np.argwhere(daughter_genome).flatten()\n",
    "        \n",
    "        # if no mutations, daughter same as mother so add clone of mother to popn\n",
    "        if len(daughter_mutations) == 0:  \n",
    "            daughters.append(mother)           \n",
    "        \n",
    "        # if at least one new mutation, create a new variant and add this novel daughter to popn\n",
    "        else:                             \n",
    "            name = len(variants)  # next unused name \n",
    "            parent_variant = variants[mother] # mother variant\n",
    "            \n",
    "            # mutations = mother mutations + new mutations\n",
    "            mutations = parent_variant.mutated_sites + daughter_mutations.tolist()\n",
    "            \n",
    "            # create the new variant\n",
    "            newvariant = Variant(name = name, parent = mother, generation = i, \n",
    "                                 mutated_sites = mutations)\n",
    "            \n",
    "            # stick the variant in our variant dict\n",
    "            variants[name] = newvariant\n",
    "            \n",
    "            # append the daughter to the daughters list\n",
    "            daughters.append(name)\n",
    "            \n",
    "    # having created all the new daughters, add them to the existing popn and repeat\n",
    "    popn = popn + daughters\n",
    "            \n",
    "            \n"
   ]
  },
  {
   "cell_type": "code",
   "execution_count": 153,
   "metadata": {},
   "outputs": [
    {
     "data": {
      "text/plain": [
       "{0: Variant(name=0, parent=None, generation=0, mutated_sites=[]),\n",
       " 1: Variant(name=1, parent=0, generation=0, mutated_sites=[12190]),\n",
       " 2: Variant(name=2, parent=0, generation=6, mutated_sites=[4106]),\n",
       " 3: Variant(name=3, parent=1, generation=6, mutated_sites=[12190, 21228]),\n",
       " 4: Variant(name=4, parent=1, generation=7, mutated_sites=[12190, 15171]),\n",
       " 5: Variant(name=5, parent=0, generation=7, mutated_sites=[19932]),\n",
       " 6: Variant(name=6, parent=0, generation=8, mutated_sites=[28629]),\n",
       " 7: Variant(name=7, parent=1, generation=8, mutated_sites=[12190, 20309]),\n",
       " 8: Variant(name=8, parent=0, generation=8, mutated_sites=[29292]),\n",
       " 9: Variant(name=9, parent=0, generation=8, mutated_sites=[15157]),\n",
       " 10: Variant(name=10, parent=0, generation=8, mutated_sites=[9904]),\n",
       " 11: Variant(name=11, parent=0, generation=8, mutated_sites=[16590]),\n",
       " 12: Variant(name=12, parent=0, generation=8, mutated_sites=[3642]),\n",
       " 13: Variant(name=13, parent=0, generation=8, mutated_sites=[22390]),\n",
       " 14: Variant(name=14, parent=1, generation=8, mutated_sites=[12190, 23515]),\n",
       " 15: Variant(name=15, parent=0, generation=9, mutated_sites=[6820]),\n",
       " 16: Variant(name=16, parent=0, generation=9, mutated_sites=[24254]),\n",
       " 17: Variant(name=17, parent=0, generation=9, mutated_sites=[10238]),\n",
       " 18: Variant(name=18, parent=0, generation=9, mutated_sites=[29955]),\n",
       " 19: Variant(name=19, parent=1, generation=9, mutated_sites=[12190, 22796])}"
      ]
     },
     "execution_count": 153,
     "metadata": {},
     "output_type": "execute_result"
    }
   ],
   "source": [
    "variants # the unique genotypes in the popn"
   ]
  },
  {
   "cell_type": "markdown",
   "metadata": {},
   "source": [
    "After evaluating the code above, the `variants` dictionary and `popn` list   represent the different genotypes and the correposponding makeup of the popn after `ngen` number of generations."
   ]
  },
  {
   "cell_type": "code",
   "execution_count": 156,
   "metadata": {},
   "outputs": [
    {
     "data": {
      "text/plain": [
       "{0: Variant(name=0, parent=None, generation=0, mutated_sites=[]),\n",
       " 1: Variant(name=1, parent=0, generation=0, mutated_sites=[12190]),\n",
       " 2: Variant(name=2, parent=0, generation=6, mutated_sites=[4106]),\n",
       " 3: Variant(name=3, parent=1, generation=6, mutated_sites=[12190, 21228]),\n",
       " 4: Variant(name=4, parent=1, generation=7, mutated_sites=[12190, 15171]),\n",
       " 5: Variant(name=5, parent=0, generation=7, mutated_sites=[19932]),\n",
       " 6: Variant(name=6, parent=0, generation=8, mutated_sites=[28629]),\n",
       " 7: Variant(name=7, parent=1, generation=8, mutated_sites=[12190, 20309]),\n",
       " 8: Variant(name=8, parent=0, generation=8, mutated_sites=[29292]),\n",
       " 9: Variant(name=9, parent=0, generation=8, mutated_sites=[15157]),\n",
       " 10: Variant(name=10, parent=0, generation=8, mutated_sites=[9904]),\n",
       " 11: Variant(name=11, parent=0, generation=8, mutated_sites=[16590]),\n",
       " 12: Variant(name=12, parent=0, generation=8, mutated_sites=[3642]),\n",
       " 13: Variant(name=13, parent=0, generation=8, mutated_sites=[22390]),\n",
       " 14: Variant(name=14, parent=1, generation=8, mutated_sites=[12190, 23515]),\n",
       " 15: Variant(name=15, parent=0, generation=9, mutated_sites=[6820]),\n",
       " 16: Variant(name=16, parent=0, generation=9, mutated_sites=[24254]),\n",
       " 17: Variant(name=17, parent=0, generation=9, mutated_sites=[10238]),\n",
       " 18: Variant(name=18, parent=0, generation=9, mutated_sites=[29955]),\n",
       " 19: Variant(name=19, parent=1, generation=9, mutated_sites=[12190, 22796])}"
      ]
     },
     "execution_count": 156,
     "metadata": {},
     "output_type": "execute_result"
    }
   ],
   "source": [
    "variants  # the genotypes (genome variants) in the popn"
   ]
  },
  {
   "cell_type": "markdown",
   "metadata": {},
   "source": [
    "We can enumerate the genotypes and get their counts in the population as follows:"
   ]
  },
  {
   "cell_type": "code",
   "execution_count": 151,
   "metadata": {},
   "outputs": [
    {
     "data": {
      "text/plain": [
       "(array([ 0,  1,  2,  3,  4,  5,  6,  7,  8,  9, 10, 11, 12, 13, 14, 15, 16,\n",
       "        17, 18, 19]),\n",
       " array([482, 495,   8,   8,   4,   4,   2,   2,   2,   2,   2,   2,   2,\n",
       "          2,   2,   1,   1,   1,   1,   1]))"
      ]
     },
     "execution_count": 151,
     "metadata": {},
     "output_type": "execute_result"
    }
   ],
   "source": [
    "np.unique(popn, return_counts=True)"
   ]
  },
  {
   "cell_type": "markdown",
   "metadata": {},
   "source": [
    "We can create a visuall representation of the lineages in our simulation by using a package called [networkx](https://networkx.github.io/), which is a Python library for working with graph or network structures (networkx is not installed by default so you'll need to install networkx using the Anaconda Navigator or via `conda` on the command line).\n",
    "\n",
    "Tree stucture are a special case of graphs (as used in graph theory).  Here we create a directed graph to represent the relationship among the lineages in our simulation:"
   ]
  },
  {
   "cell_type": "code",
   "execution_count": 158,
   "metadata": {},
   "outputs": [],
   "source": [
    "import networkx as nx\n",
    "\n",
    "tree = nx.DiGraph()  \n",
    "for variant in variants.values():\n",
    "    tree.add_node(variant.name)  # each genotype is a node\n",
    "    if variant.parent is not None:\n",
    "        tree.add_edge(variant.parent, variant.name)  # create an edge pointing to each node from it's parent"
   ]
  },
  {
   "cell_type": "code",
   "execution_count": 178,
   "metadata": {},
   "outputs": [
    {
     "data": {
      "image/png": "[encoded data removed]",
      "text/plain": [
       "<Figure size 432x288 with 1 Axes>"
      ]
     },
     "metadata": {},
     "output_type": "display_data"
    }
   ],
   "source": [
    "# draw the tree, using a layout structure\n",
    "pos = nx.layout.kamada_kawai_layout(tree)\n",
    "nx.draw(tree, pos=pos, with_labels=True)\n",
    "#nx.draw_networkx()"
   ]
  },
  {
   "cell_type": "markdown",
   "metadata": {},
   "source": [
    "The following layout does a better job with tree like structures but requires another library (pygraphviz) and the installation of an external program called graphviz."
   ]
  },
  {
   "cell_type": "code",
   "execution_count": 179,
   "metadata": {},
   "outputs": [
    {
     "data": {
      "image/png": "[encoded data removed]",
      "text/plain": [
       "<Figure size 432x288 with 1 Axes>"
      ]
     },
     "metadata": {},
     "output_type": "display_data"
    }
   ],
   "source": [
    "# draw the tree, using a layout structure that should produce visually appealing results\n",
    "pos = nx.nx_agraph.pygraphviz_layout(tree, prog=\"twopi\", args=\"\")\n",
    "nx.draw(tree, pos=pos, with_labels=True)"
   ]
  },
  {
   "cell_type": "code",
   "execution_count": null,
   "metadata": {},
   "outputs": [],
   "source": []
  }
 ],
 "metadata": {
  "kernelspec": {
   "display_name": "Python 3.8.5 64-bit ('bio208': conda)",
   "language": "python",
   "name": "python38564bitbio208conda0bf5d1ad0a654af58f619f590fa5f614"
  },
  "language_info": {
   "codemirror_mode": {
    "name": "ipython",
    "version": 3
   },
   "file_extension": ".py",
   "mimetype": "text/x-python",
   "name": "python",
   "nbconvert_exporter": "python",
   "pygments_lexer": "ipython3",
   "version": "3.8.5"
  }
 },
 "nbformat": 4,
 "nbformat_minor": 4
}

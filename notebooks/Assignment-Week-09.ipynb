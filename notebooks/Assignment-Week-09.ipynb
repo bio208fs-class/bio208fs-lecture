{
 "cells": [
  {
   "cell_type": "markdown",
   "metadata": {},
   "source": [
    "# Week 09 Assignment\n",
    "\n",
    "**Due date**: Tue, Oct 20 by 3:30pm (submit on Sakai)"
   ]
  },
  {
   "cell_type": "markdown",
   "metadata": {},
   "source": [
    "## Accessing subsitution matrices from Biopython\n",
    "\n",
    "The `Bio.Align.subtitution_matrices` module includes representations of commonly used sequence substitution matrices, such as the BLOSUM matrices (BLOSUM62, BLOSUM45, etc) and PAM matrices (PAM250 being the most commonly used).  \n",
    "\n",
    "To use these representations we need to import the `Bio.Align.subtitution_matrices` and then load the respective substitution matrix (the full of the available subsitution matrices can be viewed here: https://github.com/biopython/biopython/tree/master/Bio/Align/substitution_matrices/data)."
   ]
  },
  {
   "cell_type": "code",
   "execution_count": 1,
   "metadata": {},
   "outputs": [],
   "source": [
    "from Bio.Align import substitution_matrices"
   ]
  },
  {
   "cell_type": "code",
   "execution_count": 2,
   "metadata": {},
   "outputs": [],
   "source": [
    "BLOSUM62 = substitution_matrices.load(\"BLOSUM62\")"
   ]
  },
  {
   "cell_type": "code",
   "execution_count": 3,
   "metadata": {},
   "outputs": [
    {
     "data": {
      "text/plain": [
       "-3.0"
      ]
     },
     "execution_count": 3,
     "metadata": {},
     "output_type": "execute_result"
    }
   ],
   "source": [
    "BLOSUM62[\"E\", \"L\"]"
   ]
  },
  {
   "cell_type": "code",
   "execution_count": 4,
   "metadata": {},
   "outputs": [
    {
     "data": {
      "text/plain": [
       "5.0"
      ]
     },
     "execution_count": 4,
     "metadata": {},
     "output_type": "execute_result"
    }
   ],
   "source": [
    "BLOSUM62[\"E\", \"E\"]"
   ]
  },
  {
   "cell_type": "code",
   "execution_count": 5,
   "metadata": {},
   "outputs": [],
   "source": [
    "PAM250 = substitution_matrices.load(\"PAM250\")"
   ]
  },
  {
   "cell_type": "code",
   "execution_count": 7,
   "metadata": {},
   "outputs": [
    {
     "data": {
      "text/plain": [
       "4.0"
      ]
     },
     "execution_count": 7,
     "metadata": {},
     "output_type": "execute_result"
    }
   ],
   "source": [
    "PAM250[\"E\",\"E\"]"
   ]
  },
  {
   "cell_type": "code",
   "execution_count": 8,
   "metadata": {},
   "outputs": [
    {
     "data": {
      "text/plain": [
       "-3.0"
      ]
     },
     "execution_count": 8,
     "metadata": {},
     "output_type": "execute_result"
    }
   ],
   "source": [
    "PAM250[\"E\",\"L\"]"
   ]
  },
  {
   "cell_type": "markdown",
   "metadata": {},
   "source": [
    "BLOSUM and PAM matrices are for protein sequences, for nucleotide sequences you can use the matrix designated \"NUC.4.4\" (all substitutions have equal scores)."
   ]
  },
  {
   "cell_type": "code",
   "execution_count": 10,
   "metadata": {},
   "outputs": [],
   "source": [
    "NUC4 = substitution_matrices.load(\"NUC.4.4\")"
   ]
  },
  {
   "cell_type": "code",
   "execution_count": 11,
   "metadata": {},
   "outputs": [
    {
     "data": {
      "text/plain": [
       "-4.0"
      ]
     },
     "execution_count": 11,
     "metadata": {},
     "output_type": "execute_result"
    }
   ],
   "source": [
    "NUC4[\"A\",\"T\"]"
   ]
  },
  {
   "cell_type": "code",
   "execution_count": 14,
   "metadata": {},
   "outputs": [
    {
     "data": {
      "text/plain": [
       "5.0"
      ]
     },
     "execution_count": 14,
     "metadata": {},
     "output_type": "execute_result"
    }
   ],
   "source": [
    "NUC4[\"A\", \"A\"]"
   ]
  },
  {
   "cell_type": "markdown",
   "metadata": {},
   "source": [
    "## Problem 1 (10 pts)\n",
    "\n",
    "Write a function, `smith_waterman_matrix` that calculates the scoring matrix for the Smith-Waterman local alignment algorithm.  Your function should take four arguments, as described in the doc string below."
   ]
  },
  {
   "cell_type": "code",
   "execution_count": 20,
   "metadata": {},
   "outputs": [],
   "source": [
    "def smith_waterman_matrix(seq1, seq2, matrix=\"BLOSUM45\", gap_penalty = -3):\n",
    "    \"\"\" Calculate scoring matrix for Smith-Waterman local alignment\n",
    "    \n",
    "    Arguments:\n",
    "        * seq1, seq2: Strings representing the two sequences to be aligned\n",
    "        * matrix: the name of the substitution matrix to be used -- \n",
    "            see https://github.com/biopython/biopython/tree/master/Bio/Align/substitution_matrices/data\n",
    "            for the list of valid matrix names\n",
    "        * gap_penalty: the similarity score assigned to indel in the alignment\n",
    "        \n",
    "    \"\"\"\n",
    "    pass  # replace with your code, return scoring matrix"
   ]
  },
  {
   "cell_type": "markdown",
   "metadata": {},
   "source": [
    "Test your function by calculating the scoring matrix for the following alignment problem:\n",
    "\n",
    "* Align `VEPPLSQE` and `ELPLC` using the BLOSUM62 substitution matrix and a gap penality of -3\n",
    "\n"
   ]
  },
  {
   "cell_type": "markdown",
   "metadata": {},
   "source": [
    "## Problem 2 (5 pts)\n",
    "\n",
    "Using your `smith_waterman_matrix` function above, or working by hand if you were unable to successfuly implement the function, calculate the scoring matrix for the following local alignment problem:\n",
    "\n",
    "* Align `PAWHEAE` and `HEAGAWGHEE` using the BLOSUM45 substitution matrix and a gap penalty of -8\n",
    "\n",
    "* What is the best local alignment of these two sequences?"
   ]
  },
  {
   "cell_type": "code",
   "execution_count": null,
   "metadata": {},
   "outputs": [],
   "source": []
  }
 ],
 "metadata": {
  "kernelspec": {
   "display_name": "Python 3",
   "language": "python",
   "name": "python3"
  },
  "language_info": {
   "codemirror_mode": {
    "name": "ipython",
    "version": 3
   },
   "file_extension": ".py",
   "mimetype": "text/x-python",
   "name": "python",
   "nbconvert_exporter": "python",
   "pygments_lexer": "ipython3",
   "version": "3.8.5"
  }
 },
 "nbformat": 4,
 "nbformat_minor": 4
}

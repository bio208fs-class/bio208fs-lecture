{
 "cells": [
  {
   "cell_type": "markdown",
   "metadata": {},
   "source": [
    "\n",
    "## Wright-Fisher and Moran Models for Genetic Drift"
   ]
  },
  {
   "cell_type": "code",
   "execution_count": 4,
   "metadata": {},
   "outputs": [],
   "source": [
    "import random\n",
    "import numpy as np\n",
    "from matplotlib import pyplot as plt"
   ]
  },
  {
   "cell_type": "markdown",
   "metadata": {},
   "source": [
    "## Wright-Fisher Model\n",
    "\n",
    "### Assumptions of the basic model:\n",
    "\n",
    "* generations are non-overlapping: all individuals reproduce and die simultaneously\n",
    "* the population is characterized by the current numbers of each allelic type\n",
    "* new generations are formed by binomial sampling of alleles from the parental generation. Stated another way, offspring genoypes are randomly sampled from parental genotypes, with probabilities equal to the frequency of each genotype in the parental generation (i.e. fair sampling)\n"
   ]
  },
  {
   "cell_type": "markdown",
   "metadata": {},
   "source": [
    "\n",
    "\n",
    "![Wright-Fisher Model from Muirhead 2016](https://github.com/bio208fs-class/bio208fs-lecture/raw/master/images/wright-fisher-model-from-muirhead-2016.png)\n"
   ]
  },
  {
   "cell_type": "markdown",
   "metadata": {},
   "source": [
    "### Implement a function to simulate the Wright-Fisher model\n",
    "\n",
    "Write a function that implements the Wright-Fisher model.  \n",
    "\n",
    "* Your function should take 3 arguments:\n",
    "    - `x` the initial number of mutant allele in the population\n",
    "    - `N` the population size\n",
    "    - `ngens` the number of generations to simulate\n",
    "\n",
    "* Your function should return a list that gives the number of mutant alleles in the population for each generation of the simulation\n",
    "\n",
    "* There are two straightforward ways to simulate binomial sampling, illustrated below"
   ]
  },
  {
   "cell_type": "markdown",
   "metadata": {},
   "source": [
    "#### Binomial sampling using `random.choices`"
   ]
  },
  {
   "cell_type": "code",
   "execution_count": 5,
   "metadata": {},
   "outputs": [
    {
     "data": {
      "text/plain": [
       "[0, 1, 0, 0, 0, 1, 0, 0, 0, 0]"
      ]
     },
     "execution_count": 5,
     "metadata": {},
     "output_type": "execute_result"
    }
   ],
   "source": [
    "# simulating binomial sampling using the random.choices function\n",
    "\n",
    "# randomly choose between 0 (wt) and 1 (mt), with probabilities given by \"weights\", returning k such choices\n",
    "# evaluate this multiple times to see that it changes each time\n",
    "sample = random.choices([0,1], weights=[0.7, 0.3], k = 10 )\n",
    "sample"
   ]
  },
  {
   "cell_type": "code",
   "execution_count": 7,
   "metadata": {},
   "outputs": [
    {
     "data": {
      "text/plain": [
       "(2, 8)"
      ]
     },
     "execution_count": 7,
     "metadata": {},
     "output_type": "execute_result"
    }
   ],
   "source": [
    "sample.count(1), sample.count(0)  # count the number of mutant (1) and wild-type (0) alleles"
   ]
  },
  {
   "cell_type": "markdown",
   "metadata": {},
   "source": [
    "#### Binomial sampling using `numpy.random.binomial`"
   ]
  },
  {
   "cell_type": "code",
   "execution_count": 13,
   "metadata": {},
   "outputs": [
    {
     "data": {
      "text/plain": [
       "2"
      ]
     },
     "execution_count": 13,
     "metadata": {},
     "output_type": "execute_result"
    }
   ],
   "source": [
    "# Simulating binomial sampling using np.random.binomial\n",
    "\n",
    "# get count of mutant alleles in 10 random draws where the probability of \n",
    "# picking the mutant allele is 0.3\n",
    "# evaluate this multiple times to see that it changes each time\n",
    "mut_ct = np.random.binomial(10, 0.3)\n",
    "mut_ct"
   ]
  },
  {
   "cell_type": "markdown",
   "metadata": {},
   "source": [
    "#### Your implementation of Wright-Fisher"
   ]
  },
  {
   "cell_type": "code",
   "execution_count": 17,
   "metadata": {},
   "outputs": [],
   "source": [
    "def wright_fisher(x, N, ngens):\n",
    "    pass # replace this with your code"
   ]
  },
  {
   "cell_type": "markdown",
   "metadata": {},
   "source": [
    "#### Explore Wright-Fisher model for different parameters\n",
    "\n",
    "Generate 100 runs of your simulation for all the combinations of following parameters:\n",
    "\n",
    "* Population sizes:  10, 50, 100, 1000\n",
    "* Initial allele freqencies: 1/N, 0.5 (more akin to a migration event rather than mutation)\n",
    "* ngens: 500\n",
    "\n",
    "For each set of 100 runs:\n",
    "\n",
    "* Draw plots of frequency of the mutant allele over time (note: it might be useful to \"zoom in\" on some of the plots, drawing only a portion of the generations (e.g. 100 generations vs the full 500) in order to compare the dynamics)\n",
    "\n",
    "* Calculate for what fraction of the runs did the mutant allele become fixed\n",
    "\n",
    "\n"
   ]
  },
  {
   "cell_type": "code",
   "execution_count": 15,
   "metadata": {},
   "outputs": [],
   "source": [
    "## your code here"
   ]
  },
  {
   "cell_type": "markdown",
   "metadata": {},
   "source": [
    "### Predictions of Wright-Fisher model\n",
    "\n",
    "A new mutation appears is introduced at a fraction $p$ into population of size $N$. The Wright-Fisher model predics:\n",
    "\n",
    "* Expected allele frequencies ($E(p) = p$) remain constant across generations, whereas the variance per generation is $Var[p] = \\frac{p (1-p)}{N}$ \n",
    "\n",
    "* Over time, allele frequency trajectories in replicate populations diverge from each other, and the variance in allele frequency between them increases\n",
    "\n",
    "* A new mutation introduced into a population eventually becomes takes over the population (becomes \"fixed\") or is lost -- the probability of fixation at any time point $t$ is equal to its frequency in the population at thtat time ($p_t$).\n",
    "\n",
    "* Given initial allele frequency $p$, the expected time before a neutral mutation is either fixed or lost from the population is approximately $ 2N (p \\log p + (1-p) \\log(1-p))$\n",
    "\n"
   ]
  },
  {
   "cell_type": "markdown",
   "metadata": {},
   "source": [
    "## Moran Model\n",
    "\n",
    "The Moran model is an alternate model that is used to explore neutral evolution in populations. The assumptions of the Moran model are (from Muirhead 2016):\n",
    "\n",
    "* In the Moran model generations overlap.\n",
    "* The Moran model does not specify discrete generations for the population as a whole; instead, it follows the fate of individual allele copies in ‘timesteps.’ \n",
    "* Each timestep involves the death of an allele copy and the reproduction (exact duplication) of an allele copy to replace the one that died (see figure below)\n",
    "* The mathematical description of the process is further simplified by assuming that the two events (death and reproduction) are simultaneous, so that an allele probability of being chosen for reproduction does not depend upon whether or not it was chosen for death."
   ]
  },
  {
   "cell_type": "markdown",
   "metadata": {},
   "source": [
    "![Moran Model from Muirhead 2016](https://github.com/bio208fs-class/bio208fs-lecture/raw/master/images/moran-model-from-muirhead-2016.png)"
   ]
  },
  {
   "cell_type": "markdown",
   "metadata": {},
   "source": [
    "### Implementation of Moran model"
   ]
  },
  {
   "cell_type": "code",
   "execution_count": 18,
   "metadata": {},
   "outputs": [],
   "source": [
    "def moran(x, N, ngens):\n",
    "    nmut = [x]\n",
    "    for gen in range(ngens):\n",
    "        for i in range(N):\n",
    "            p = nmut[-1]/N\n",
    "            died, born = random.choices([0,1], weights=(1-p, p),k=2)\n",
    "            nmut.append(nmut[-1] + (born - died))\n",
    "    return nmut\n",
    "            "
   ]
  },
  {
   "cell_type": "code",
   "execution_count": 24,
   "metadata": {},
   "outputs": [
    {
     "data": {
      "text/plain": [
       "(0.0, 1.0)"
      ]
     },
     "execution_count": 24,
     "metadata": {},
     "output_type": "execute_result"
    },
    {
     "data": {
      "image/png": "[encoded data removed]",
      "text/plain": [
       "<Figure size 432x288 with 1 Axes>"
      ]
     },
     "metadata": {
      "needs_background": "light"
     },
     "output_type": "display_data"
    }
   ],
   "source": [
    "# generate one instance of moran model\n",
    "# initial mutant count = 10, popn size = 50, ngens = 500\n",
    "\n",
    "ct0 = 10\n",
    "popsize = 50\n",
    "ngens = 500\n",
    "\n",
    "nmuts = np.array(moran(ct0, popsize, ngens))  \n",
    "plt.plot(nmuts/popsize)  # turn counts into frequences\n",
    "\n",
    "plt.ylim(0,1)"
   ]
  },
  {
   "cell_type": "code",
   "execution_count": 28,
   "metadata": {},
   "outputs": [],
   "source": [
    "# generate 100 instances of moran model\n",
    "# initial mutant count = 10, popn size = 50, ngens = 500\n",
    "\n",
    "ct0 = 10\n",
    "popsize = 50\n",
    "ngens = 500\n",
    "\n",
    "runs = [moran(ct0, popsize, ngens) for i in range(100)]\n",
    "runs = np.array(runs)\n"
   ]
  },
  {
   "cell_type": "code",
   "execution_count": 29,
   "metadata": {},
   "outputs": [
    {
     "data": {
      "text/plain": [
       "(0.0, 7500.0)"
      ]
     },
     "execution_count": 29,
     "metadata": {},
     "output_type": "execute_result"
    },
    {
     "data": {
      "image/png": "[encoded data removed]",
      "text/plain": [
       "<Figure size 432x288 with 1 Axes>"
      ]
     },
     "metadata": {
      "needs_background": "light"
     },
     "output_type": "display_data"
    }
   ],
   "source": [
    "for run in runs:\n",
    "    plt.plot(run/popsize, alpha=0.25, color='black')  # turn counts into frequences\n",
    "\n",
    "plt.ylim(0,1)\n",
    "plt.xlim(0,7500)"
   ]
  },
  {
   "cell_type": "code",
   "execution_count": 33,
   "metadata": {},
   "outputs": [
    {
     "data": {
      "text/plain": [
       "0.21"
      ]
     },
     "execution_count": 33,
     "metadata": {},
     "output_type": "execute_result"
    }
   ],
   "source": [
    "# calculate the fraction of runs in which the mutant allele became fixed\n",
    "\n",
    "freqs = runs/popsize\n",
    "final_freq = freqs[:,-1]\n",
    "np.sum(final_freq == 1)/len(final_freq)"
   ]
  },
  {
   "cell_type": "markdown",
   "metadata": {},
   "source": [
    "### Predictions of Moran model\n",
    "\n",
    "* Probability of fixation: $p_0$\n",
    "* After one generation, variance in $p$ is: $\\frac{2p(1-p)}{(2N)^2}$"
   ]
  },
  {
   "cell_type": "code",
   "execution_count": null,
   "metadata": {},
   "outputs": [],
   "source": []
  }
 ],
 "metadata": {
  "kernelspec": {
   "display_name": "Python 3.8.5 64-bit ('bio208': conda)",
   "language": "python",
   "name": "python38564bitbio208conda0bf5d1ad0a654af58f619f590fa5f614"
  },
  "language_info": {
   "codemirror_mode": {
    "name": "ipython",
    "version": 3
   },
   "file_extension": ".py",
   "mimetype": "text/x-python",
   "name": "python",
   "nbconvert_exporter": "python",
   "pygments_lexer": "ipython3",
   "version": "3.8.5"
  }
 },
 "nbformat": 4,
 "nbformat_minor": 4
}

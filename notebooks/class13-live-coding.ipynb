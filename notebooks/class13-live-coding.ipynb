{
 "cells": [
  {
   "cell_type": "markdown",
   "metadata": {},
   "source": [
    "\n",
    "## Simulating Population Growth, Mutation, and the fixation of alleles\n",
    "\n"
   ]
  },
  {
   "cell_type": "code",
   "execution_count": 1,
   "metadata": {},
   "outputs": [],
   "source": [
    "import random\n",
    "import numpy as np\n",
    "from matplotlib import pyplot as plt"
   ]
  },
  {
   "cell_type": "markdown",
   "metadata": {},
   "source": [
    "## Exponential growth\n",
    "\n",
    "Write a function, `doublings` which takens as input a single argument, `ngens`, where `ngens` is the number of generations to simulate.\n",
    "\n",
    "Your function should simulate the change in population size over time, given the following constraints:\n",
    "\n",
    "1. The initial population size is 1\n",
    "2. Every individual alive at the beginning of a generation gives rise to one new individual\n",
    "\n",
    "Your function should return a list of the population sizes for each generation of the simulation.\n"
   ]
  },
  {
   "cell_type": "code",
   "execution_count": 4,
   "metadata": {},
   "outputs": [],
   "source": [
    "def doublings(ngens):\n",
    "    pass  # replace w/your code\n"
   ]
  },
  {
   "cell_type": "markdown",
   "metadata": {},
   "source": [
    "Create a plot of population size over time for 30 generations of the simulation."
   ]
  },
  {
   "cell_type": "code",
   "execution_count": 5,
   "metadata": {},
   "outputs": [],
   "source": [
    "## your plot here"
   ]
  },
  {
   "cell_type": "markdown",
   "metadata": {},
   "source": [
    "## Growth and death"
   ]
  },
  {
   "cell_type": "markdown",
   "metadata": {},
   "source": [
    "Create another function, `doublings_death`, which takens as input two argument, `ngens` and `death_rate`, where `ngens` is the number of generations to simulate and `death_rate` is the fraction of the population that dies each generation (a floating point value between 0 and 1)\n",
    "\n",
    "Your function should simulate the change in population size over time, given the following constraints:\n",
    "\n",
    "1. The initial population size is 1\n",
    "2. Every individual alive at the beginning of a generation gives rise to one new individual\n",
    "3. After reproducing individuals die at a rate given by `death_rate`\n",
    "\n",
    "Your function should return a list of the population sizes for each generation of the simulation.\n"
   ]
  },
  {
   "cell_type": "code",
   "execution_count": 6,
   "metadata": {},
   "outputs": [],
   "source": [
    "def doublings_death(ngens, death_rate):\n",
    "    pass  # replace w/your code\n"
   ]
  },
  {
   "cell_type": "markdown",
   "metadata": {},
   "source": [
    "Create plots (on the same axes) of population size over time for 30 generations of the simulation, with death rates of 0.01, 0.1, 0.25.  Compare these to the results from `doublings` above."
   ]
  },
  {
   "cell_type": "code",
   "execution_count": 7,
   "metadata": {},
   "outputs": [],
   "source": [
    "# plot here"
   ]
  },
  {
   "cell_type": "markdown",
   "metadata": {},
   "source": [
    "## Growth plus density dependent death"
   ]
  },
  {
   "cell_type": "markdown",
   "metadata": {},
   "source": [
    "Create another function, `doublings_density`, which takens as input two argument, `ngens`, `death_rate`, where `ngens` is the number of generations to simulate and `death_rate` is density dependent death rate (see below).\n",
    "\n",
    "Your function should simulate the change in population size over time, given the following constraints:\n",
    "\n",
    "1. The initial population size is 1\n",
    "2. Every individual alive at the beginning of a generation gives rise to one new individual\n",
    "3. After reproduction, individuals die at a rate given by `min(1, death_rate * population size)`\n",
    "\n",
    "Your function should return a list of the population sizes for each generation of the simulation.\n"
   ]
  },
  {
   "cell_type": "code",
   "execution_count": 10,
   "metadata": {},
   "outputs": [],
   "source": [
    "def doublings_density(ngens, death_rate):\n",
    "    pass # replace w/your code"
   ]
  },
  {
   "cell_type": "markdown",
   "metadata": {},
   "source": [
    "Create plots of population size over time for 30 generations of the simulation, with death rates of 0.01, 0.001, 0.0001, and 0.0001.  Compare these to the results from `doublings` above.  How does the final population size relate to the desnity dependent death rate?"
   ]
  },
  {
   "cell_type": "code",
   "execution_count": null,
   "metadata": {},
   "outputs": [],
   "source": []
  }
 ],
 "metadata": {
  "kernelspec": {
   "display_name": "Python 3.8.5 64-bit ('bio208': conda)",
   "language": "python",
   "name": "python38564bitbio208conda0bf5d1ad0a654af58f619f590fa5f614"
  },
  "language_info": {
   "codemirror_mode": {
    "name": "ipython",
    "version": 3
   },
   "file_extension": ".py",
   "mimetype": "text/x-python",
   "name": "python",
   "nbconvert_exporter": "python",
   "pygments_lexer": "ipython3",
   "version": "3.8.5"
  }
 },
 "nbformat": 4,
 "nbformat_minor": 4
}

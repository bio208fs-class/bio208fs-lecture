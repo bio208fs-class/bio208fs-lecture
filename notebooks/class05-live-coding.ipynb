{
 "cells": [
  {
   "cell_type": "markdown",
   "metadata": {},
   "source": [
    "## Reading and writing from files\n",
    "\n",
    "The `open` function is the standard way to gain access to a file on your filesystem.  Files can be opened for reading only, writing, or both reading and writing.  By default files are opened in read only mode.  The primary argument to the `open` function is a string giving the path and name of the file you want to open:"
   ]
  },
  {
   "cell_type": "code",
   "execution_count": 1,
   "metadata": {},
   "outputs": [],
   "source": [
    "### open function and file objects\n",
    "f = open(\"/Users/pmagwene/Downloads/covid-ref.fsa\")"
   ]
  },
  {
   "cell_type": "markdown",
   "metadata": {},
   "source": [
    "The simplest way to manipulate a file is simply to read all the information from it, return the data in the file as a string:"
   ]
  },
  {
   "cell_type": "code",
   "execution_count": 2,
   "metadata": {},
   "outputs": [],
   "source": [
    "### reading everything from a file as a single string\n",
    "s = f.read()"
   ]
  },
  {
   "cell_type": "markdown",
   "metadata": {},
   "source": [
    "Once you've read what you need from the file it's good practice to close it (failing to close a file can lead to a memory leak in some contexts, but it's usually not a problem in an interactive environment like Jupyter notebooks)."
   ]
  },
  {
   "cell_type": "code",
   "execution_count": 3,
   "metadata": {},
   "outputs": [],
   "source": [
    "f.close()"
   ]
  },
  {
   "cell_type": "markdown",
   "metadata": {},
   "source": [
    "An alternate way to read a file is within a `with` statement as illustrated below.  The advantage of the `with` function is it insures you're file is closed (i.e. you don't need to explicitly call the `close` method)."
   ]
  },
  {
   "cell_type": "code",
   "execution_count": 4,
   "metadata": {},
   "outputs": [],
   "source": [
    "with open(\"/Users/pmagwene/Downloads/covid-ref.fsa\") as f:\n",
    "    s = f.read()"
   ]
  },
  {
   "cell_type": "markdown",
   "metadata": {},
   "source": [
    "Once we've read the file into a string we can apply all the standard string methods and operators to it:"
   ]
  },
  {
   "cell_type": "code",
   "execution_count": 5,
   "metadata": {
    "scrolled": false
   },
   "outputs": [
    {
     "data": {
      "text/plain": [
       "30429"
      ]
     },
     "execution_count": 5,
     "metadata": {},
     "output_type": "execute_result"
    }
   ],
   "source": [
    "len(s)  ## how many characters were in the file?"
   ]
  },
  {
   "cell_type": "code",
   "execution_count": 6,
   "metadata": {},
   "outputs": [
    {
     "data": {
      "text/plain": [
       "'>NC_045512.2 Severe acute respiratory syndrome cor'"
      ]
     },
     "execution_count": 6,
     "metadata": {},
     "output_type": "execute_result"
    }
   ],
   "source": [
    "s[:50]  ## first 50 chars in the file"
   ]
  },
  {
   "cell_type": "markdown",
   "metadata": {},
   "source": [
    "## Reading a file by lines\n",
    "\n",
    "Sometimes it's more convenient or more efficient to get the information in the file in terms of lines.  The `readlines` method associated with file object read's all the lines at once in a list:"
   ]
  },
  {
   "cell_type": "code",
   "execution_count": 7,
   "metadata": {},
   "outputs": [],
   "source": [
    "## return a list of the lines in the file\n",
    "with open(\"/Users/pmagwene/Downloads/covid-ref.fsa\") as f:\n",
    "    lines = f.readlines()"
   ]
  },
  {
   "cell_type": "code",
   "execution_count": 8,
   "metadata": {},
   "outputs": [
    {
     "data": {
      "text/plain": [
       "430"
      ]
     },
     "execution_count": 8,
     "metadata": {},
     "output_type": "execute_result"
    }
   ],
   "source": [
    "len(lines)"
   ]
  },
  {
   "cell_type": "code",
   "execution_count": 9,
   "metadata": {},
   "outputs": [
    {
     "data": {
      "text/plain": [
       "'>NC_045512.2 Severe acute respiratory syndrome coronavirus 2 isolate Wuhan-Hu-1, complete genome\\n'"
      ]
     },
     "execution_count": 9,
     "metadata": {},
     "output_type": "execute_result"
    }
   ],
   "source": [
    "lines[0]"
   ]
  },
  {
   "cell_type": "code",
   "execution_count": 10,
   "metadata": {},
   "outputs": [
    {
     "data": {
      "text/plain": [
       "'ATTAAAGGTTTATACCTTCCCAGGTAACAAACCAACCAACTTTCGATCTCTTGTAGATCTGTTCTCTAAA\\n'"
      ]
     },
     "execution_count": 10,
     "metadata": {},
     "output_type": "execute_result"
    }
   ],
   "source": [
    "lines[1]"
   ]
  },
  {
   "cell_type": "markdown",
   "metadata": {},
   "source": [
    "## Reading a file one line at a time"
   ]
  },
  {
   "cell_type": "markdown",
   "metadata": {},
   "source": [
    "The `readlines` function illustrated above reads all the lines at once. That's works well if your file has a modest number of lines, but for a file with millions of lines (or very long single lines)  `readlines` might exhaust the memory of your computer.  One way to work around this is to process files line by line, reading only one line at a time.  This can be done with a for loop applied directly to the file object:"
   ]
  },
  {
   "cell_type": "code",
   "execution_count": 11,
   "metadata": {},
   "outputs": [
    {
     "data": {
      "text/plain": [
       "[97, 71, 71, 71, 71, 71, 71, 71, 71, 71]"
      ]
     },
     "execution_count": 11,
     "metadata": {},
     "output_type": "execute_result"
    }
   ],
   "source": [
    "with open(\"/Users/pmagwene/Downloads/covid-ref.fsa\") as f:\n",
    "    nchars = []\n",
    "    for line in f:\n",
    "        nchars.append(len(line)) # let's pretend our task was to count line lengths for files w/millions of lines\n",
    "\n",
    "nchars[:10]  # the first chars "
   ]
  },
  {
   "cell_type": "markdown",
   "metadata": {},
   "source": [
    "For such a simple computation we'd typically use a list comprehension:"
   ]
  },
  {
   "cell_type": "code",
   "execution_count": 12,
   "metadata": {},
   "outputs": [
    {
     "data": {
      "text/plain": [
       "[97, 71, 71, 71, 71, 71, 71, 71, 71, 71]"
      ]
     },
     "execution_count": 12,
     "metadata": {},
     "output_type": "execute_result"
    }
   ],
   "source": [
    "with open(\"/Users/pmagwene/Downloads/covid-ref.fsa\") as f:\n",
    "    nchars = [len(line) for line in f]\n",
    "\n",
    "nchars[:10] "
   ]
  },
  {
   "cell_type": "markdown",
   "metadata": {},
   "source": [
    "# The FASTA file format for sequence data\n",
    "\n",
    "The FASTA file format is the most commonly used file format used to represent nucleotide and protein sequence data.  Wikipedia has a good [overview of the FASTA format](https://en.wikipedia.org/wiki/FASTA_format).  \n",
    "\n",
    "Summary of FASTA format:\n",
    " \n",
    " * Each file can hold one or more sequence records\n",
    " \n",
    " * The beginning of each record is delimited by a line called a header, which has a `>` character at the beginning, followed by the name associated with that record (and an optional description). For example `>seq1 Involved in...` would indicate the beginning of a record with the name `seq1` and the description \"Involved in...\".\n",
    " \n",
    " * On or more sequence lines follow header lines.  These lines are usually wrapped to have length <=80 characters but this is not required.\n",
    "\n"
   ]
  },
  {
   "cell_type": "markdown",
   "metadata": {},
   "source": [
    "We'll illustrate this format with an example -- the COVID-19 reference genome.  The  [Genbank](https://www.ncbi.nlm.nih.gov/genbank/) record for the COVID-19 reference genome can be accessed via [this link](https://www.ncbi.nlm.nih.gov/nuccore/NC_045512) while a direct link the the FASTA formatted DNA sequence can be accessed [here](https://www.ncbi.nlm.nih.gov/nuccore/NC_045512.2?report=fasta&log$=seqview&format=text). \n",
    "\n",
    "I've also posted a copy of the COVID-19 reference genome in the course Github site, with a direct link to the raw FASTA file here [covid-ref.fsa](https://github.com/bio208fs-class/bio208fs-lecture/raw/master/data/covid-ref.fsa).\n"
   ]
  },
  {
   "cell_type": "code",
   "execution_count": 13,
   "metadata": {},
   "outputs": [],
   "source": [
    "def parse_FASTA(fname):\n",
    "    record_dict = {}\n",
    "    f = open(fname, 'r')\n",
    "    \n",
    "    recname = \"\"           # will hold names of records\n",
    "    seq = \"\"               # will hold seq strings\n",
    "    active_record = False  # indicates whether we are currently working on building a record\n",
    "    \n",
    "    for line in f.readlines():\n",
    "        \n",
    "        line = line.strip()  # strip any whitespace at beginning/end of line\n",
    "        \n",
    "        if line == \"\":       # empty line\n",
    "            continue         # go to next iteration of for loop\n",
    "            \n",
    " \n",
    "        if line[0] == \">\":                 # are we dealing with a new record?\n",
    "            if active_record:              # did we already have an active record?\n",
    "                record_dict[recname] = seq # if so, add to old active record to the dict so we can\n",
    "                                           # begin a new one \n",
    "            \n",
    "            recname = line[1:].split()[0]  # name of new record\n",
    "            seq = \"\"                       # reset variable holding the string\n",
    "            active_record = True           # set flag to indicate we now have an active record\n",
    "            continue                       # go to the next iteration of for loop, as there's nothing else to do\n",
    "        \n",
    "        seq += line\n",
    "        \n",
    "    if active_record:               # if we've exhausted all the lines, we might still have an active record\n",
    "        record_dict[recname] = seq  # if so, add it to the dict\n",
    "\n",
    "    return record_dict\n",
    "        \n",
    "            "
   ]
  },
  {
   "cell_type": "markdown",
   "metadata": {},
   "source": [
    "To test our `parse_FASTA` function download the `covid-ref.fsa` file linked above to your computer and modify the lines below to load and parse the sequence records contained in that file."
   ]
  },
  {
   "cell_type": "code",
   "execution_count": 14,
   "metadata": {},
   "outputs": [],
   "source": [
    "recs = parse_FASTA(\"/Users/pmagwene/Downloads/covid-ref.fsa\")"
   ]
  },
  {
   "cell_type": "code",
   "execution_count": 15,
   "metadata": {},
   "outputs": [
    {
     "data": {
      "text/plain": [
       "dict"
      ]
     },
     "execution_count": 15,
     "metadata": {},
     "output_type": "execute_result"
    }
   ],
   "source": [
    "type(recs)"
   ]
  },
  {
   "cell_type": "code",
   "execution_count": 16,
   "metadata": {},
   "outputs": [
    {
     "data": {
      "text/plain": [
       "1"
      ]
     },
     "execution_count": 16,
     "metadata": {},
     "output_type": "execute_result"
    }
   ],
   "source": [
    "len(recs)"
   ]
  },
  {
   "cell_type": "code",
   "execution_count": 17,
   "metadata": {},
   "outputs": [
    {
     "data": {
      "text/plain": [
       "['NC_045512.2']"
      ]
     },
     "execution_count": 17,
     "metadata": {},
     "output_type": "execute_result"
    }
   ],
   "source": [
    "list(recs.keys())  # get a list of the keys in recs"
   ]
  },
  {
   "cell_type": "code",
   "execution_count": 18,
   "metadata": {},
   "outputs": [
    {
     "data": {
      "text/plain": [
       "'ATTAAAGGTT'"
      ]
     },
     "execution_count": 18,
     "metadata": {},
     "output_type": "execute_result"
    }
   ],
   "source": [
    "recs[\"NC_045512.2\"][:10]  # get the first 10 characters in the sequence for the record with this name"
   ]
  },
  {
   "cell_type": "markdown",
   "metadata": {},
   "source": [
    "### Using our parse_FASTA function"
   ]
  },
  {
   "cell_type": "markdown",
   "metadata": {},
   "source": [
    "Download the following files to your computer:\n",
    "\n",
    "* [`covid-ref.fsa`](https://github.com/bio208fs-class/bio208fs-lecture/raw/master/data/covid-ref.fsa)\n",
    "* [`covid-S-and-E.fsa`](https://github.com/bio208fs-class/bio208fs-lecture/raw/master/data/covid-S-and-E.fsa)"
   ]
  },
  {
   "cell_type": "markdown",
   "metadata": {},
   "source": [
    "# Assignment 01\n",
    "\n",
    "Using codeblocks, solve the following problems:\n",
    "\n",
    "a) Show how to use the `parse_FASTA` function to read the file `covid-S-and-E.fsa` file. (1 pt)"
   ]
  },
  {
   "cell_type": "code",
   "execution_count": 19,
   "metadata": {},
   "outputs": [],
   "source": [
    "# code for 1a"
   ]
  },
  {
   "cell_type": "markdown",
   "metadata": {},
   "source": [
    "b) Show how to use list comprehension to get the gene names of each of the records in `covid-S-and-E.fsa` (1 pt)"
   ]
  },
  {
   "cell_type": "code",
   "execution_count": 20,
   "metadata": {},
   "outputs": [],
   "source": [
    "# code for 1b"
   ]
  },
  {
   "cell_type": "markdown",
   "metadata": {},
   "source": [
    "c) Show how to get the sequence corresponding to the gene with the name `YP_009724390.1` (1 pt)"
   ]
  },
  {
   "cell_type": "code",
   "execution_count": 21,
   "metadata": {},
   "outputs": [],
   "source": [
    "# code for 1c"
   ]
  },
  {
   "cell_type": "markdown",
   "metadata": {},
   "source": [
    "d) Show how to use a single for-loop to create two lists containing the name of each protein in `covid-S-and-E.fsa` and a corresponding list giving the length of each of those proteins (2 pts)"
   ]
  },
  {
   "cell_type": "code",
   "execution_count": 22,
   "metadata": {},
   "outputs": [],
   "source": [
    "# code for 1d"
   ]
  },
  {
   "cell_type": "markdown",
   "metadata": {},
   "source": [
    "# Assignment 02\n",
    "\n",
    "Using codeblocks, solve the following problems:\n",
    " \n",
    "a) Refer to the [GenBank record page for the COVID-19 reference genome](https://www.ncbi.nlm.nih.gov/nuccore/NC_045512).  What are the genome coordinates for the coding sequence for the \"S\" (spike) gene?  What are the genome coordinates for the coding sequence of the \"E\" (envelope) gene? Assign the start and stop coordinates for each of these genes to variables with appropriate names (1 pt)"
   ]
  },
  {
   "cell_type": "code",
   "execution_count": 23,
   "metadata": {},
   "outputs": [],
   "source": [
    "# code for 2a"
   ]
  },
  {
   "cell_type": "markdown",
   "metadata": {},
   "source": [
    "b) Using the DNA nucleotide sequence you loaded from the `covid-ref.fsa` file, show how to retrieve the nucleotide sequences corresponding to the \"S\" and \"E\" genes. Remember that Python strings are 0-indexed, whereas GenBank using 1-index coordinates (3 pts)"
   ]
  },
  {
   "cell_type": "code",
   "execution_count": 24,
   "metadata": {},
   "outputs": [],
   "source": [
    "# code for 2b"
   ]
  },
  {
   "cell_type": "markdown",
   "metadata": {},
   "source": [
    "# Assignment 03\n",
    "\n",
    "a) Write a translation function, `translate`, that takes as an input a string representing a DNA coding sequence and returns a string representing the corresponding protein sequence (5 pts)"
   ]
  },
  {
   "cell_type": "code",
   "execution_count": 25,
   "metadata": {},
   "outputs": [],
   "source": [
    "# code for 3a\n",
    "\n",
    "def translate(seq):\n",
    "    pass # replace with your code"
   ]
  },
  {
   "cell_type": "markdown",
   "metadata": {},
   "source": [
    "b) Test your `translate` function by applying it to the coding sequence of the \"S\" and \"E\" genes, and comparing your results to the protein sequences from the `covid-S-and-E.fsa` file provided above."
   ]
  },
  {
   "cell_type": "code",
   "execution_count": 26,
   "metadata": {},
   "outputs": [],
   "source": [
    "# code for 3b"
   ]
  },
  {
   "cell_type": "markdown",
   "metadata": {},
   "source": [
    "# Assigment 04\n",
    "\n",
    "The protein coding regions of many genes are encoded not as single continuous blocks of the genome, but instead in regions called \"exons\" that are separated by non-coding regions called \"introns\".  Following transcription, intronic sequences are \"spliced out\" of meseenger RNA (mRNA) by a protein complex called the \"Sliceosome\".  The end product of this splicing process is the sequence that will actually be translated by ribosomes."
   ]
  },
  {
   "cell_type": "markdown",
   "metadata": {},
   "source": [
    "a) Write a splicing function that takes as input two arguments:\n",
    "\n",
    "1.  a string representing the genomic DNA sequence of the gene\n",
    "2.  a list of list (or tuples), where each sublist (tuple) contains a pair of numerical (integer) coordinates giving the start and stop coordinates (1-indexed, relative to the beginning of the sequence) of the exons of the gene. \n",
    "\n",
    "The output should be a string representing to the spliced DNA sequence of the gene (i.e. the exons concatenated in the correct order) (5 pts)"
   ]
  },
  {
   "cell_type": "code",
   "execution_count": 27,
   "metadata": {},
   "outputs": [],
   "source": [
    "# code for 4a\n",
    "\n",
    "def splice(seq, exons):\n",
    "    pass  # replace w/your code"
   ]
  },
  {
   "cell_type": "markdown",
   "metadata": {},
   "source": [
    "b) test your splice function by looking up the exon information for the yeast gene [ACT1](https://www.yeastgenome.org/locus/S000001855) at the [Saccharomyces Genome Database](https://yeastgenome.org) and using that information to splice the file [`ACT1-genomic.fsa`](https://github.com/bio208fs-class/bio208fs-lecture/raw/master/data/ACT1-genomic.fsa) and then comparing your result to the spliced version of ACT1 in the file [`ACT1-coding.fsa`](https://github.com/bio208fs-class/bio208fs-lecture/raw/master/data/ACT1-coding.fsa) (2 pts)"
   ]
  },
  {
   "cell_type": "code",
   "execution_count": 28,
   "metadata": {},
   "outputs": [],
   "source": [
    "# code for 4b\n"
   ]
  }
 ],
 "metadata": {
  "kernelspec": {
   "display_name": "Python 3",
   "language": "python",
   "name": "python3"
  },
  "language_info": {
   "codemirror_mode": {
    "name": "ipython",
    "version": 3
   },
   "file_extension": ".py",
   "mimetype": "text/x-python",
   "name": "python",
   "nbconvert_exporter": "python",
   "pygments_lexer": "ipython3",
   "version": "3.7.6"
  }
 },
 "nbformat": 4,
 "nbformat_minor": 4
}

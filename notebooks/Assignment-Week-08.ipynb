{
 "cells": [
  {
   "cell_type": "markdown",
   "metadata": {},
   "source": [
    "# Week 08 Assignment\n",
    "\n",
    "**Due date**: Tue, Oct 13 by 3:30pm (submit on Sakai)"
   ]
  },
  {
   "cell_type": "markdown",
   "metadata": {},
   "source": [
    "## Problem 1\n",
    "\n",
    "For the alignment problems below, using pencil and paper (or an ipad or other tablet) write down the alignment matrix, including associated costs of the prefix alignments, and the inferred optimal global alignments, using the Needleman-Wunsch algorithm for the following pairs of sequences.  \n",
    "\n",
    "Use the following cost function:\n",
    "\n",
    "$$\n",
    "w(a'_i,b'_i) = \\begin{cases}\n",
    "0 &\\text{if } a'_i = b'_i \\\\\n",
    "1 & \\text{otherwise} \n",
    "\\end{cases}\n",
    "$$\n",
    "\n",
    "Submit your results for this probem by scanning or taking a photo of your work (or saving the results as a PDF or PNG file if working on ipad/tablet) and uploading the image to Sakai."
   ]
  },
  {
   "cell_type": "markdown",
   "metadata": {},
   "source": [
    "### Problem 1a (4 pts)\n",
    "\n",
    "Align: `ACCGA` and `TCCTA`"
   ]
  },
  {
   "cell_type": "markdown",
   "metadata": {},
   "source": [
    "### Problem 1b (4 pts)\n",
    "\n",
    "Aign: `AATCG` and `AACGG`"
   ]
  },
  {
   "cell_type": "markdown",
   "metadata": {},
   "source": [
    "## Problem 2\n",
    "\n",
    "### Problem 2a (8 pts)\n",
    "\n",
    "Write a function, `needleman_wunsch`, that computes the alignment cost matrix.\n",
    "\n",
    "Your function should take as input two strings (representing the sequences to be algined) and two values representing the cost associated with mismatches and the cost associated with gaps. Your function should return a 2D numpy array representing the alignment cost matrix."
   ]
  },
  {
   "cell_type": "code",
   "execution_count": null,
   "metadata": {},
   "outputs": [],
   "source": [
    "def needleman_wunsch(a, b, mismatch_cost, gap_cost):\n",
    "    pass # replace with implementation"
   ]
  },
  {
   "cell_type": "markdown",
   "metadata": {},
   "source": [
    "### Problem 2b (4 pts)\n",
    "\n",
    "Test your `needleman_wunsch` implementation by calculating alignment cost matrices for the alignment in Problems 1a, 1b and 1c, using the two different mismatch/gap costs below:\n",
    "\n",
    "* `mismatch_cost = 1`, `gap_cost = 1`\n",
    "* `mismatch_cost = 1`, `gap_cost = 2`\n",
    "\n",
    "For either of the alignment problems, do the best alignments change when the gap cost is higher?"
   ]
  },
  {
   "cell_type": "code",
   "execution_count": null,
   "metadata": {},
   "outputs": [],
   "source": []
  }
 ],
 "metadata": {
  "kernelspec": {
   "display_name": "Python 3.8.5 64-bit ('bio208': conda)",
   "language": "python",
   "name": "python38564bitbio208conda0bf5d1ad0a654af58f619f590fa5f614"
  },
  "language_info": {
   "codemirror_mode": {
    "name": "ipython",
    "version": 3
   },
   "file_extension": ".py",
   "mimetype": "text/x-python",
   "name": "python",
   "nbconvert_exporter": "python",
   "pygments_lexer": "ipython3",
   "version": "3.8.5"
  }
 },
 "nbformat": 4,
 "nbformat_minor": 4
}
